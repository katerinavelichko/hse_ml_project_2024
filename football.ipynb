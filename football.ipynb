{
 "cells": [
  {
   "cell_type": "code",
   "execution_count": 1,
   "id": "9353f867-ebf3-4fe6-958d-93471097a750",
   "metadata": {
    "tags": []
   },
   "outputs": [],
   "source": [
    "import pandas as pd\n",
    "import numpy as np\n",
    "\n",
    "import seaborn as sns\n",
    "import matplotlib.pyplot as plt\n",
    "\n",
    "import warnings\n",
    "warnings.filterwarnings(action='ignore')"
   ]
  },
  {
   "cell_type": "markdown",
   "id": "1cfbb000-340b-4268-b70b-bae71ef5c606",
   "metadata": {},
   "source": [
    "## Предобработка данных\n",
    "Объединим таблички в одну, удалим повторяющиеся и лишние строки по типу ```url```"
   ]
  },
  {
   "cell_type": "code",
   "execution_count": 2,
   "id": "675ac9d6-b84d-4eb2-b600-fdd3cd408d4e",
   "metadata": {
    "tags": []
   },
   "outputs": [],
   "source": [
    "appearances = pd.read_csv('football_data/appearances.csv')"
   ]
  },
  {
   "cell_type": "code",
   "execution_count": 3,
   "id": "3a5fac94-a48b-41e3-ae0e-42be71222202",
   "metadata": {
    "tags": []
   },
   "outputs": [
    {
     "data": {
      "text/plain": [
       "Index(['appearance_id', 'game_id', 'player_id', 'player_club_id',\n",
       "       'player_current_club_id', 'date', 'player_name', 'competition_id',\n",
       "       'yellow_cards', 'red_cards', 'goals', 'assists', 'minutes_played'],\n",
       "      dtype='object')"
      ]
     },
     "execution_count": 3,
     "metadata": {},
     "output_type": "execute_result"
    }
   ],
   "source": [
    "appearances.columns"
   ]
  },
  {
   "cell_type": "code",
   "execution_count": 4,
   "id": "2164f811-251b-47a0-adbc-444603418134",
   "metadata": {
    "tags": []
   },
   "outputs": [],
   "source": [
    "competitions = pd.read_csv('football_data/competitions.csv')"
   ]
  },
  {
   "cell_type": "code",
   "execution_count": 5,
   "id": "1718fc92-6860-4964-995c-30fc2826fa78",
   "metadata": {
    "tags": []
   },
   "outputs": [
    {
     "data": {
      "text/plain": [
       "Index(['competition_id', 'competition_code', 'name', 'sub_type', 'type',\n",
       "       'country_id', 'country_name', 'domestic_league_code', 'confederation',\n",
       "       'url', 'is_major_national_league'],\n",
       "      dtype='object')"
      ]
     },
     "execution_count": 5,
     "metadata": {},
     "output_type": "execute_result"
    }
   ],
   "source": [
    "competitions.columns"
   ]
  },
  {
   "cell_type": "code",
   "execution_count": 6,
   "id": "3c68786d-eae4-4cdc-aa65-9710eae36dc2",
   "metadata": {
    "tags": []
   },
   "outputs": [],
   "source": [
    "competitions = competitions.drop(columns=['name','country_name','url'])"
   ]
  },
  {
   "cell_type": "code",
   "execution_count": 7,
   "id": "78bfa3a8-8edb-4340-af5a-5a64ac646555",
   "metadata": {
    "tags": []
   },
   "outputs": [
    {
     "data": {
      "text/plain": [
       "Index(['competition_id', 'competition_code', 'sub_type', 'type', 'country_id',\n",
       "       'domestic_league_code', 'confederation', 'is_major_national_league',\n",
       "       'appearance_id', 'game_id', 'player_id', 'player_club_id',\n",
       "       'player_current_club_id', 'date', 'player_name', 'yellow_cards',\n",
       "       'red_cards', 'goals', 'assists', 'minutes_played'],\n",
       "      dtype='object')"
      ]
     },
     "execution_count": 7,
     "metadata": {},
     "output_type": "execute_result"
    }
   ],
   "source": [
    "merged_df = pd.merge(competitions, appearances, on='competition_id',how='left')\n",
    "\n",
    "merged_df.columns"
   ]
  },
  {
   "cell_type": "code",
   "execution_count": 8,
   "id": "60c3033a-3e29-4c61-9823-467043775a6e",
   "metadata": {
    "tags": []
   },
   "outputs": [],
   "source": [
    "games = pd.read_csv('football_data/games.csv')\n",
    "player_valuations = pd.read_csv('football_data/player_valuations.csv')\n",
    "player = pd.read_csv('football_data/players.csv')"
   ]
  },
  {
   "cell_type": "code",
   "execution_count": 9,
   "id": "c50a749f-8435-4590-93d3-cc3ed37512e7",
   "metadata": {
    "tags": []
   },
   "outputs": [
    {
     "data": {
      "text/plain": [
       "Index(['game_id', 'competition_id', 'season', 'round', 'date', 'home_club_id',\n",
       "       'away_club_id', 'home_club_goals', 'away_club_goals',\n",
       "       'home_club_position', 'away_club_position', 'home_club_manager_name',\n",
       "       'away_club_manager_name', 'stadium', 'attendance', 'referee', 'url',\n",
       "       'home_club_formation', 'away_club_formation', 'home_club_name',\n",
       "       'away_club_name', 'aggregate', 'competition_type'],\n",
       "      dtype='object')"
      ]
     },
     "execution_count": 9,
     "metadata": {},
     "output_type": "execute_result"
    }
   ],
   "source": [
    "games.columns"
   ]
  },
  {
   "cell_type": "code",
   "execution_count": 10,
   "id": "c2a1e0e5-fbe8-42a6-9e0c-8c61d2fbd985",
   "metadata": {
    "tags": []
   },
   "outputs": [],
   "source": [
    "games = games.drop(columns=['competition_id','date','url','home_club_name','away_club_name'])"
   ]
  },
  {
   "cell_type": "code",
   "execution_count": 11,
   "id": "98b60e63-16fa-4d9b-bd07-c49ad5acd2e6",
   "metadata": {
    "tags": []
   },
   "outputs": [
    {
     "data": {
      "text/plain": [
       "Index(['competition_id', 'competition_code', 'sub_type', 'type', 'country_id',\n",
       "       'domestic_league_code', 'confederation', 'is_major_national_league',\n",
       "       'appearance_id', 'game_id', 'player_id', 'player_club_id',\n",
       "       'player_current_club_id', 'date', 'player_name', 'yellow_cards',\n",
       "       'red_cards', 'goals', 'assists', 'minutes_played', 'season', 'round',\n",
       "       'home_club_id', 'away_club_id', 'home_club_goals', 'away_club_goals',\n",
       "       'home_club_position', 'away_club_position', 'home_club_manager_name',\n",
       "       'away_club_manager_name', 'stadium', 'attendance', 'referee',\n",
       "       'home_club_formation', 'away_club_formation', 'aggregate',\n",
       "       'competition_type'],\n",
       "      dtype='object')"
      ]
     },
     "execution_count": 11,
     "metadata": {},
     "output_type": "execute_result"
    }
   ],
   "source": [
    "merged_df = pd.merge(merged_df, games, on='game_id', how='left')\n",
    "\n",
    "merged_df.columns"
   ]
  },
  {
   "cell_type": "code",
   "execution_count": 12,
   "id": "71edaf24-27f2-4c5f-b388-90db8e9ce13a",
   "metadata": {},
   "outputs": [
    {
     "data": {
      "text/html": [
       "<div>\n",
       "<style scoped>\n",
       "    .dataframe tbody tr th:only-of-type {\n",
       "        vertical-align: middle;\n",
       "    }\n",
       "\n",
       "    .dataframe tbody tr th {\n",
       "        vertical-align: top;\n",
       "    }\n",
       "\n",
       "    .dataframe thead th {\n",
       "        text-align: right;\n",
       "    }\n",
       "</style>\n",
       "<table border=\"1\" class=\"dataframe\">\n",
       "  <thead>\n",
       "    <tr style=\"text-align: right;\">\n",
       "      <th></th>\n",
       "      <th>competition_id</th>\n",
       "      <th>competition_code</th>\n",
       "      <th>sub_type</th>\n",
       "      <th>type</th>\n",
       "      <th>country_id</th>\n",
       "      <th>domestic_league_code</th>\n",
       "      <th>confederation</th>\n",
       "      <th>is_major_national_league</th>\n",
       "      <th>appearance_id</th>\n",
       "      <th>game_id</th>\n",
       "      <th>...</th>\n",
       "      <th>away_club_position</th>\n",
       "      <th>home_club_manager_name</th>\n",
       "      <th>away_club_manager_name</th>\n",
       "      <th>stadium</th>\n",
       "      <th>attendance</th>\n",
       "      <th>referee</th>\n",
       "      <th>home_club_formation</th>\n",
       "      <th>away_club_formation</th>\n",
       "      <th>aggregate</th>\n",
       "      <th>competition_type</th>\n",
       "    </tr>\n",
       "  </thead>\n",
       "  <tbody>\n",
       "    <tr>\n",
       "      <th>30358</th>\n",
       "      <td>DK1</td>\n",
       "      <td>superligaen</td>\n",
       "      <td>first_tier</td>\n",
       "      <td>domestic_league</td>\n",
       "      <td>39</td>\n",
       "      <td>DK1</td>\n",
       "      <td>europa</td>\n",
       "      <td>False</td>\n",
       "      <td>2329280_102043</td>\n",
       "      <td>2329280</td>\n",
       "      <td>...</td>\n",
       "      <td>2.0</td>\n",
       "      <td>Peter Sörensen</td>\n",
       "      <td>Glen Riddersholm</td>\n",
       "      <td>Ceres Park</td>\n",
       "      <td>9364.0</td>\n",
       "      <td>Anders Poulsen</td>\n",
       "      <td>4-1-4-1</td>\n",
       "      <td>4-1-4-1</td>\n",
       "      <td>0:2</td>\n",
       "      <td>domestic_league</td>\n",
       "    </tr>\n",
       "    <tr>\n",
       "      <th>30359</th>\n",
       "      <td>DK1</td>\n",
       "      <td>superligaen</td>\n",
       "      <td>first_tier</td>\n",
       "      <td>domestic_league</td>\n",
       "      <td>39</td>\n",
       "      <td>DK1</td>\n",
       "      <td>europa</td>\n",
       "      <td>False</td>\n",
       "      <td>2329280_102045</td>\n",
       "      <td>2329280</td>\n",
       "      <td>...</td>\n",
       "      <td>2.0</td>\n",
       "      <td>Peter Sörensen</td>\n",
       "      <td>Glen Riddersholm</td>\n",
       "      <td>Ceres Park</td>\n",
       "      <td>9364.0</td>\n",
       "      <td>Anders Poulsen</td>\n",
       "      <td>4-1-4-1</td>\n",
       "      <td>4-1-4-1</td>\n",
       "      <td>0:2</td>\n",
       "      <td>domestic_league</td>\n",
       "    </tr>\n",
       "    <tr>\n",
       "      <th>30360</th>\n",
       "      <td>DK1</td>\n",
       "      <td>superligaen</td>\n",
       "      <td>first_tier</td>\n",
       "      <td>domestic_league</td>\n",
       "      <td>39</td>\n",
       "      <td>DK1</td>\n",
       "      <td>europa</td>\n",
       "      <td>False</td>\n",
       "      <td>2329280_166460</td>\n",
       "      <td>2329280</td>\n",
       "      <td>...</td>\n",
       "      <td>2.0</td>\n",
       "      <td>Peter Sörensen</td>\n",
       "      <td>Glen Riddersholm</td>\n",
       "      <td>Ceres Park</td>\n",
       "      <td>9364.0</td>\n",
       "      <td>Anders Poulsen</td>\n",
       "      <td>4-1-4-1</td>\n",
       "      <td>4-1-4-1</td>\n",
       "      <td>0:2</td>\n",
       "      <td>domestic_league</td>\n",
       "    </tr>\n",
       "    <tr>\n",
       "      <th>30361</th>\n",
       "      <td>DK1</td>\n",
       "      <td>superligaen</td>\n",
       "      <td>first_tier</td>\n",
       "      <td>domestic_league</td>\n",
       "      <td>39</td>\n",
       "      <td>DK1</td>\n",
       "      <td>europa</td>\n",
       "      <td>False</td>\n",
       "      <td>2329280_174001</td>\n",
       "      <td>2329280</td>\n",
       "      <td>...</td>\n",
       "      <td>2.0</td>\n",
       "      <td>Peter Sörensen</td>\n",
       "      <td>Glen Riddersholm</td>\n",
       "      <td>Ceres Park</td>\n",
       "      <td>9364.0</td>\n",
       "      <td>Anders Poulsen</td>\n",
       "      <td>4-1-4-1</td>\n",
       "      <td>4-1-4-1</td>\n",
       "      <td>0:2</td>\n",
       "      <td>domestic_league</td>\n",
       "    </tr>\n",
       "    <tr>\n",
       "      <th>30362</th>\n",
       "      <td>DK1</td>\n",
       "      <td>superligaen</td>\n",
       "      <td>first_tier</td>\n",
       "      <td>domestic_league</td>\n",
       "      <td>39</td>\n",
       "      <td>DK1</td>\n",
       "      <td>europa</td>\n",
       "      <td>False</td>\n",
       "      <td>2329280_186557</td>\n",
       "      <td>2329280</td>\n",
       "      <td>...</td>\n",
       "      <td>2.0</td>\n",
       "      <td>Peter Sörensen</td>\n",
       "      <td>Glen Riddersholm</td>\n",
       "      <td>Ceres Park</td>\n",
       "      <td>9364.0</td>\n",
       "      <td>Anders Poulsen</td>\n",
       "      <td>4-1-4-1</td>\n",
       "      <td>4-1-4-1</td>\n",
       "      <td>0:2</td>\n",
       "      <td>domestic_league</td>\n",
       "    </tr>\n",
       "    <tr>\n",
       "      <th>...</th>\n",
       "      <td>...</td>\n",
       "      <td>...</td>\n",
       "      <td>...</td>\n",
       "      <td>...</td>\n",
       "      <td>...</td>\n",
       "      <td>...</td>\n",
       "      <td>...</td>\n",
       "      <td>...</td>\n",
       "      <td>...</td>\n",
       "      <td>...</td>\n",
       "      <td>...</td>\n",
       "      <td>...</td>\n",
       "      <td>...</td>\n",
       "      <td>...</td>\n",
       "      <td>...</td>\n",
       "      <td>...</td>\n",
       "      <td>...</td>\n",
       "      <td>...</td>\n",
       "      <td>...</td>\n",
       "      <td>...</td>\n",
       "      <td>...</td>\n",
       "    </tr>\n",
       "    <tr>\n",
       "      <th>1553539</th>\n",
       "      <td>BE1</td>\n",
       "      <td>jupiler-pro-league</td>\n",
       "      <td>first_tier</td>\n",
       "      <td>domestic_league</td>\n",
       "      <td>19</td>\n",
       "      <td>BE1</td>\n",
       "      <td>europa</td>\n",
       "      <td>False</td>\n",
       "      <td>4098850_820474</td>\n",
       "      <td>4098850</td>\n",
       "      <td>...</td>\n",
       "      <td>6.0</td>\n",
       "      <td>Rik De Mil</td>\n",
       "      <td>Wouter Vrancken</td>\n",
       "      <td>Het Kuipje</td>\n",
       "      <td>8000.0</td>\n",
       "      <td>Lawrence Visser</td>\n",
       "      <td>4-2-3-1</td>\n",
       "      <td>4-2-3-1</td>\n",
       "      <td>1:1</td>\n",
       "      <td>domestic_league</td>\n",
       "    </tr>\n",
       "    <tr>\n",
       "      <th>1553540</th>\n",
       "      <td>BE1</td>\n",
       "      <td>jupiler-pro-league</td>\n",
       "      <td>first_tier</td>\n",
       "      <td>domestic_league</td>\n",
       "      <td>19</td>\n",
       "      <td>BE1</td>\n",
       "      <td>europa</td>\n",
       "      <td>False</td>\n",
       "      <td>4098850_840149</td>\n",
       "      <td>4098850</td>\n",
       "      <td>...</td>\n",
       "      <td>6.0</td>\n",
       "      <td>Rik De Mil</td>\n",
       "      <td>Wouter Vrancken</td>\n",
       "      <td>Het Kuipje</td>\n",
       "      <td>8000.0</td>\n",
       "      <td>Lawrence Visser</td>\n",
       "      <td>4-2-3-1</td>\n",
       "      <td>4-2-3-1</td>\n",
       "      <td>1:1</td>\n",
       "      <td>domestic_league</td>\n",
       "    </tr>\n",
       "    <tr>\n",
       "      <th>1553541</th>\n",
       "      <td>BE1</td>\n",
       "      <td>jupiler-pro-league</td>\n",
       "      <td>first_tier</td>\n",
       "      <td>domestic_league</td>\n",
       "      <td>19</td>\n",
       "      <td>BE1</td>\n",
       "      <td>europa</td>\n",
       "      <td>False</td>\n",
       "      <td>4098850_855731</td>\n",
       "      <td>4098850</td>\n",
       "      <td>...</td>\n",
       "      <td>6.0</td>\n",
       "      <td>Rik De Mil</td>\n",
       "      <td>Wouter Vrancken</td>\n",
       "      <td>Het Kuipje</td>\n",
       "      <td>8000.0</td>\n",
       "      <td>Lawrence Visser</td>\n",
       "      <td>4-2-3-1</td>\n",
       "      <td>4-2-3-1</td>\n",
       "      <td>1:1</td>\n",
       "      <td>domestic_league</td>\n",
       "    </tr>\n",
       "    <tr>\n",
       "      <th>1553542</th>\n",
       "      <td>BE1</td>\n",
       "      <td>jupiler-pro-league</td>\n",
       "      <td>first_tier</td>\n",
       "      <td>domestic_league</td>\n",
       "      <td>19</td>\n",
       "      <td>BE1</td>\n",
       "      <td>europa</td>\n",
       "      <td>False</td>\n",
       "      <td>4098850_909737</td>\n",
       "      <td>4098850</td>\n",
       "      <td>...</td>\n",
       "      <td>6.0</td>\n",
       "      <td>Rik De Mil</td>\n",
       "      <td>Wouter Vrancken</td>\n",
       "      <td>Het Kuipje</td>\n",
       "      <td>8000.0</td>\n",
       "      <td>Lawrence Visser</td>\n",
       "      <td>4-2-3-1</td>\n",
       "      <td>4-2-3-1</td>\n",
       "      <td>1:1</td>\n",
       "      <td>domestic_league</td>\n",
       "    </tr>\n",
       "    <tr>\n",
       "      <th>1553543</th>\n",
       "      <td>BE1</td>\n",
       "      <td>jupiler-pro-league</td>\n",
       "      <td>first_tier</td>\n",
       "      <td>domestic_league</td>\n",
       "      <td>19</td>\n",
       "      <td>BE1</td>\n",
       "      <td>europa</td>\n",
       "      <td>False</td>\n",
       "      <td>4098850_912436</td>\n",
       "      <td>4098850</td>\n",
       "      <td>...</td>\n",
       "      <td>6.0</td>\n",
       "      <td>Rik De Mil</td>\n",
       "      <td>Wouter Vrancken</td>\n",
       "      <td>Het Kuipje</td>\n",
       "      <td>8000.0</td>\n",
       "      <td>Lawrence Visser</td>\n",
       "      <td>4-2-3-1</td>\n",
       "      <td>4-2-3-1</td>\n",
       "      <td>1:1</td>\n",
       "      <td>domestic_league</td>\n",
       "    </tr>\n",
       "  </tbody>\n",
       "</table>\n",
       "<p>1080223 rows × 37 columns</p>\n",
       "</div>"
      ],
      "text/plain": [
       "        competition_id    competition_code    sub_type             type  \\\n",
       "30358              DK1         superligaen  first_tier  domestic_league   \n",
       "30359              DK1         superligaen  first_tier  domestic_league   \n",
       "30360              DK1         superligaen  first_tier  domestic_league   \n",
       "30361              DK1         superligaen  first_tier  domestic_league   \n",
       "30362              DK1         superligaen  first_tier  domestic_league   \n",
       "...                ...                 ...         ...              ...   \n",
       "1553539            BE1  jupiler-pro-league  first_tier  domestic_league   \n",
       "1553540            BE1  jupiler-pro-league  first_tier  domestic_league   \n",
       "1553541            BE1  jupiler-pro-league  first_tier  domestic_league   \n",
       "1553542            BE1  jupiler-pro-league  first_tier  domestic_league   \n",
       "1553543            BE1  jupiler-pro-league  first_tier  domestic_league   \n",
       "\n",
       "         country_id domestic_league_code confederation  \\\n",
       "30358            39                  DK1        europa   \n",
       "30359            39                  DK1        europa   \n",
       "30360            39                  DK1        europa   \n",
       "30361            39                  DK1        europa   \n",
       "30362            39                  DK1        europa   \n",
       "...             ...                  ...           ...   \n",
       "1553539          19                  BE1        europa   \n",
       "1553540          19                  BE1        europa   \n",
       "1553541          19                  BE1        europa   \n",
       "1553542          19                  BE1        europa   \n",
       "1553543          19                  BE1        europa   \n",
       "\n",
       "         is_major_national_league   appearance_id  game_id  ...  \\\n",
       "30358                       False  2329280_102043  2329280  ...   \n",
       "30359                       False  2329280_102045  2329280  ...   \n",
       "30360                       False  2329280_166460  2329280  ...   \n",
       "30361                       False  2329280_174001  2329280  ...   \n",
       "30362                       False  2329280_186557  2329280  ...   \n",
       "...                           ...             ...      ...  ...   \n",
       "1553539                     False  4098850_820474  4098850  ...   \n",
       "1553540                     False  4098850_840149  4098850  ...   \n",
       "1553541                     False  4098850_855731  4098850  ...   \n",
       "1553542                     False  4098850_909737  4098850  ...   \n",
       "1553543                     False  4098850_912436  4098850  ...   \n",
       "\n",
       "         away_club_position  home_club_manager_name  away_club_manager_name  \\\n",
       "30358                   2.0          Peter Sörensen        Glen Riddersholm   \n",
       "30359                   2.0          Peter Sörensen        Glen Riddersholm   \n",
       "30360                   2.0          Peter Sörensen        Glen Riddersholm   \n",
       "30361                   2.0          Peter Sörensen        Glen Riddersholm   \n",
       "30362                   2.0          Peter Sörensen        Glen Riddersholm   \n",
       "...                     ...                     ...                     ...   \n",
       "1553539                 6.0              Rik De Mil         Wouter Vrancken   \n",
       "1553540                 6.0              Rik De Mil         Wouter Vrancken   \n",
       "1553541                 6.0              Rik De Mil         Wouter Vrancken   \n",
       "1553542                 6.0              Rik De Mil         Wouter Vrancken   \n",
       "1553543                 6.0              Rik De Mil         Wouter Vrancken   \n",
       "\n",
       "            stadium attendance          referee  home_club_formation  \\\n",
       "30358    Ceres Park     9364.0   Anders Poulsen              4-1-4-1   \n",
       "30359    Ceres Park     9364.0   Anders Poulsen              4-1-4-1   \n",
       "30360    Ceres Park     9364.0   Anders Poulsen              4-1-4-1   \n",
       "30361    Ceres Park     9364.0   Anders Poulsen              4-1-4-1   \n",
       "30362    Ceres Park     9364.0   Anders Poulsen              4-1-4-1   \n",
       "...             ...        ...              ...                  ...   \n",
       "1553539  Het Kuipje     8000.0  Lawrence Visser              4-2-3-1   \n",
       "1553540  Het Kuipje     8000.0  Lawrence Visser              4-2-3-1   \n",
       "1553541  Het Kuipje     8000.0  Lawrence Visser              4-2-3-1   \n",
       "1553542  Het Kuipje     8000.0  Lawrence Visser              4-2-3-1   \n",
       "1553543  Het Kuipje     8000.0  Lawrence Visser              4-2-3-1   \n",
       "\n",
       "         away_club_formation  aggregate  competition_type  \n",
       "30358                4-1-4-1        0:2   domestic_league  \n",
       "30359                4-1-4-1        0:2   domestic_league  \n",
       "30360                4-1-4-1        0:2   domestic_league  \n",
       "30361                4-1-4-1        0:2   domestic_league  \n",
       "30362                4-1-4-1        0:2   domestic_league  \n",
       "...                      ...        ...               ...  \n",
       "1553539              4-2-3-1        1:1   domestic_league  \n",
       "1553540              4-2-3-1        1:1   domestic_league  \n",
       "1553541              4-2-3-1        1:1   domestic_league  \n",
       "1553542              4-2-3-1        1:1   domestic_league  \n",
       "1553543              4-2-3-1        1:1   domestic_league  \n",
       "\n",
       "[1080223 rows x 37 columns]"
      ]
     },
     "execution_count": 12,
     "metadata": {},
     "output_type": "execute_result"
    }
   ],
   "source": [
    "merged_df.dropna(inplace=True)\n",
    "merged_df"
   ]
  },
  {
   "cell_type": "code",
   "execution_count": 13,
   "id": "627d1500-5252-4894-b3f4-a3006932ff50",
   "metadata": {},
   "outputs": [],
   "source": [
    "merged_df = merged_df.head(200000) # иначе данных будет неразумное число, кода будем присоединять игроков"
   ]
  },
  {
   "cell_type": "code",
   "execution_count": 14,
   "id": "230cc81f-4dda-4788-948b-86c6652707a0",
   "metadata": {
    "tags": []
   },
   "outputs": [
    {
     "data": {
      "text/html": [
       "<div>\n",
       "<style scoped>\n",
       "    .dataframe tbody tr th:only-of-type {\n",
       "        vertical-align: middle;\n",
       "    }\n",
       "\n",
       "    .dataframe tbody tr th {\n",
       "        vertical-align: top;\n",
       "    }\n",
       "\n",
       "    .dataframe thead th {\n",
       "        text-align: right;\n",
       "    }\n",
       "</style>\n",
       "<table border=\"1\" class=\"dataframe\">\n",
       "  <thead>\n",
       "    <tr style=\"text-align: right;\">\n",
       "      <th></th>\n",
       "      <th>player_id</th>\n",
       "      <th>date</th>\n",
       "      <th>market_value_in_eur_x</th>\n",
       "      <th>current_club_id_x</th>\n",
       "      <th>player_club_domestic_competition_id</th>\n",
       "      <th>first_name</th>\n",
       "      <th>last_name</th>\n",
       "      <th>name</th>\n",
       "      <th>last_season</th>\n",
       "      <th>current_club_id_y</th>\n",
       "      <th>...</th>\n",
       "      <th>foot</th>\n",
       "      <th>height_in_cm</th>\n",
       "      <th>contract_expiration_date</th>\n",
       "      <th>agent_name</th>\n",
       "      <th>image_url</th>\n",
       "      <th>url</th>\n",
       "      <th>current_club_domestic_competition_id</th>\n",
       "      <th>current_club_name</th>\n",
       "      <th>market_value_in_eur_y</th>\n",
       "      <th>highest_market_value_in_eur</th>\n",
       "    </tr>\n",
       "  </thead>\n",
       "  <tbody>\n",
       "    <tr>\n",
       "      <th>0</th>\n",
       "      <td>405973</td>\n",
       "      <td>2000-01-20</td>\n",
       "      <td>150000</td>\n",
       "      <td>3057</td>\n",
       "      <td>BE1</td>\n",
       "      <td>Fadel</td>\n",
       "      <td>Gobitaka</td>\n",
       "      <td>Fadel Gobitaka</td>\n",
       "      <td>2017</td>\n",
       "      <td>3057</td>\n",
       "      <td>...</td>\n",
       "      <td>NaN</td>\n",
       "      <td>181.0</td>\n",
       "      <td>2023-06-30 00:00:00</td>\n",
       "      <td>NaN</td>\n",
       "      <td>https://img.a.transfermarkt.technology/portrai...</td>\n",
       "      <td>https://www.transfermarkt.co.uk/fadel-gobitaka...</td>\n",
       "      <td>BE1</td>\n",
       "      <td>Royal Standard Club de Liège</td>\n",
       "      <td>50000.0</td>\n",
       "      <td>250000.0</td>\n",
       "    </tr>\n",
       "    <tr>\n",
       "      <th>1</th>\n",
       "      <td>405973</td>\n",
       "      <td>2016-02-07</td>\n",
       "      <td>250000</td>\n",
       "      <td>3057</td>\n",
       "      <td>BE1</td>\n",
       "      <td>Fadel</td>\n",
       "      <td>Gobitaka</td>\n",
       "      <td>Fadel Gobitaka</td>\n",
       "      <td>2017</td>\n",
       "      <td>3057</td>\n",
       "      <td>...</td>\n",
       "      <td>NaN</td>\n",
       "      <td>181.0</td>\n",
       "      <td>2023-06-30 00:00:00</td>\n",
       "      <td>NaN</td>\n",
       "      <td>https://img.a.transfermarkt.technology/portrai...</td>\n",
       "      <td>https://www.transfermarkt.co.uk/fadel-gobitaka...</td>\n",
       "      <td>BE1</td>\n",
       "      <td>Royal Standard Club de Liège</td>\n",
       "      <td>50000.0</td>\n",
       "      <td>250000.0</td>\n",
       "    </tr>\n",
       "    <tr>\n",
       "      <th>2</th>\n",
       "      <td>405973</td>\n",
       "      <td>2016-07-15</td>\n",
       "      <td>250000</td>\n",
       "      <td>3057</td>\n",
       "      <td>BE1</td>\n",
       "      <td>Fadel</td>\n",
       "      <td>Gobitaka</td>\n",
       "      <td>Fadel Gobitaka</td>\n",
       "      <td>2017</td>\n",
       "      <td>3057</td>\n",
       "      <td>...</td>\n",
       "      <td>NaN</td>\n",
       "      <td>181.0</td>\n",
       "      <td>2023-06-30 00:00:00</td>\n",
       "      <td>NaN</td>\n",
       "      <td>https://img.a.transfermarkt.technology/portrai...</td>\n",
       "      <td>https://www.transfermarkt.co.uk/fadel-gobitaka...</td>\n",
       "      <td>BE1</td>\n",
       "      <td>Royal Standard Club de Liège</td>\n",
       "      <td>50000.0</td>\n",
       "      <td>250000.0</td>\n",
       "    </tr>\n",
       "    <tr>\n",
       "      <th>3</th>\n",
       "      <td>405973</td>\n",
       "      <td>2017-01-01</td>\n",
       "      <td>150000</td>\n",
       "      <td>3057</td>\n",
       "      <td>BE1</td>\n",
       "      <td>Fadel</td>\n",
       "      <td>Gobitaka</td>\n",
       "      <td>Fadel Gobitaka</td>\n",
       "      <td>2017</td>\n",
       "      <td>3057</td>\n",
       "      <td>...</td>\n",
       "      <td>NaN</td>\n",
       "      <td>181.0</td>\n",
       "      <td>2023-06-30 00:00:00</td>\n",
       "      <td>NaN</td>\n",
       "      <td>https://img.a.transfermarkt.technology/portrai...</td>\n",
       "      <td>https://www.transfermarkt.co.uk/fadel-gobitaka...</td>\n",
       "      <td>BE1</td>\n",
       "      <td>Royal Standard Club de Liège</td>\n",
       "      <td>50000.0</td>\n",
       "      <td>250000.0</td>\n",
       "    </tr>\n",
       "    <tr>\n",
       "      <th>4</th>\n",
       "      <td>405973</td>\n",
       "      <td>2018-09-11</td>\n",
       "      <td>75000</td>\n",
       "      <td>3057</td>\n",
       "      <td>BE1</td>\n",
       "      <td>Fadel</td>\n",
       "      <td>Gobitaka</td>\n",
       "      <td>Fadel Gobitaka</td>\n",
       "      <td>2017</td>\n",
       "      <td>3057</td>\n",
       "      <td>...</td>\n",
       "      <td>NaN</td>\n",
       "      <td>181.0</td>\n",
       "      <td>2023-06-30 00:00:00</td>\n",
       "      <td>NaN</td>\n",
       "      <td>https://img.a.transfermarkt.technology/portrai...</td>\n",
       "      <td>https://www.transfermarkt.co.uk/fadel-gobitaka...</td>\n",
       "      <td>BE1</td>\n",
       "      <td>Royal Standard Club de Liège</td>\n",
       "      <td>50000.0</td>\n",
       "      <td>250000.0</td>\n",
       "    </tr>\n",
       "    <tr>\n",
       "      <th>...</th>\n",
       "      <td>...</td>\n",
       "      <td>...</td>\n",
       "      <td>...</td>\n",
       "      <td>...</td>\n",
       "      <td>...</td>\n",
       "      <td>...</td>\n",
       "      <td>...</td>\n",
       "      <td>...</td>\n",
       "      <td>...</td>\n",
       "      <td>...</td>\n",
       "      <td>...</td>\n",
       "      <td>...</td>\n",
       "      <td>...</td>\n",
       "      <td>...</td>\n",
       "      <td>...</td>\n",
       "      <td>...</td>\n",
       "      <td>...</td>\n",
       "      <td>...</td>\n",
       "      <td>...</td>\n",
       "      <td>...</td>\n",
       "      <td>...</td>\n",
       "    </tr>\n",
       "    <tr>\n",
       "      <th>470506</th>\n",
       "      <td>935554</td>\n",
       "      <td>2024-05-31</td>\n",
       "      <td>50000</td>\n",
       "      <td>114</td>\n",
       "      <td>TR1</td>\n",
       "      <td>Abdülmecid</td>\n",
       "      <td>Dönmez</td>\n",
       "      <td>Abdülmecid Dönmez</td>\n",
       "      <td>2023</td>\n",
       "      <td>114</td>\n",
       "      <td>...</td>\n",
       "      <td>NaN</td>\n",
       "      <td>NaN</td>\n",
       "      <td>2026-06-30 00:00:00</td>\n",
       "      <td>NaN</td>\n",
       "      <td>https://img.a.transfermarkt.technology/portrai...</td>\n",
       "      <td>https://www.transfermarkt.co.uk/abdulmecid-don...</td>\n",
       "      <td>TR1</td>\n",
       "      <td>Beşiktaş Jimnastik Kulübü</td>\n",
       "      <td>50000.0</td>\n",
       "      <td>50000.0</td>\n",
       "    </tr>\n",
       "    <tr>\n",
       "      <th>470507</th>\n",
       "      <td>954135</td>\n",
       "      <td>2024-05-31</td>\n",
       "      <td>50000</td>\n",
       "      <td>3205</td>\n",
       "      <td>TR1</td>\n",
       "      <td>Berat</td>\n",
       "      <td>Eskin</td>\n",
       "      <td>Berat Eskin</td>\n",
       "      <td>2023</td>\n",
       "      <td>3205</td>\n",
       "      <td>...</td>\n",
       "      <td>right</td>\n",
       "      <td>176.0</td>\n",
       "      <td>2028-06-30 00:00:00</td>\n",
       "      <td>NaN</td>\n",
       "      <td>https://img.a.transfermarkt.technology/portrai...</td>\n",
       "      <td>https://www.transfermarkt.co.uk/berat-eskin/pr...</td>\n",
       "      <td>TR1</td>\n",
       "      <td>Kayserispor Kulübü</td>\n",
       "      <td>50000.0</td>\n",
       "      <td>50000.0</td>\n",
       "    </tr>\n",
       "    <tr>\n",
       "      <th>470508</th>\n",
       "      <td>1047507</td>\n",
       "      <td>2024-05-31</td>\n",
       "      <td>50000</td>\n",
       "      <td>924</td>\n",
       "      <td>TR1</td>\n",
       "      <td>Emir Mustafa</td>\n",
       "      <td>Vuruşaner</td>\n",
       "      <td>Emir Mustafa Vuruşaner</td>\n",
       "      <td>2023</td>\n",
       "      <td>924</td>\n",
       "      <td>...</td>\n",
       "      <td>left</td>\n",
       "      <td>NaN</td>\n",
       "      <td>NaN</td>\n",
       "      <td>NaN</td>\n",
       "      <td>https://img.a.transfermarkt.technology/portrai...</td>\n",
       "      <td>https://www.transfermarkt.co.uk/emir-mustafa-v...</td>\n",
       "      <td>TR1</td>\n",
       "      <td>İstanbulspor A.Ş.</td>\n",
       "      <td>50000.0</td>\n",
       "      <td>50000.0</td>\n",
       "    </tr>\n",
       "    <tr>\n",
       "      <th>470509</th>\n",
       "      <td>1055234</td>\n",
       "      <td>2024-05-31</td>\n",
       "      <td>25000</td>\n",
       "      <td>724</td>\n",
       "      <td>NL1</td>\n",
       "      <td>Mika</td>\n",
       "      <td>van der Horst</td>\n",
       "      <td>Mika van der Horst</td>\n",
       "      <td>2023</td>\n",
       "      <td>724</td>\n",
       "      <td>...</td>\n",
       "      <td>NaN</td>\n",
       "      <td>NaN</td>\n",
       "      <td>2027-06-30 00:00:00</td>\n",
       "      <td>Iconics Management</td>\n",
       "      <td>https://img.a.transfermarkt.technology/portrai...</td>\n",
       "      <td>https://www.transfermarkt.co.uk/mika-van-der-h...</td>\n",
       "      <td>NL1</td>\n",
       "      <td>Football Club Volendam</td>\n",
       "      <td>25000.0</td>\n",
       "      <td>25000.0</td>\n",
       "    </tr>\n",
       "    <tr>\n",
       "      <th>470510</th>\n",
       "      <td>1175926</td>\n",
       "      <td>2024-05-31</td>\n",
       "      <td>50000</td>\n",
       "      <td>924</td>\n",
       "      <td>TR1</td>\n",
       "      <td>Baran Alp</td>\n",
       "      <td>Vardar</td>\n",
       "      <td>Baran Alp Vardar</td>\n",
       "      <td>2023</td>\n",
       "      <td>924</td>\n",
       "      <td>...</td>\n",
       "      <td>right</td>\n",
       "      <td>191.0</td>\n",
       "      <td>NaN</td>\n",
       "      <td>NaN</td>\n",
       "      <td>https://img.a.transfermarkt.technology/portrai...</td>\n",
       "      <td>https://www.transfermarkt.co.uk/baran-alp-vard...</td>\n",
       "      <td>TR1</td>\n",
       "      <td>İstanbulspor A.Ş.</td>\n",
       "      <td>50000.0</td>\n",
       "      <td>50000.0</td>\n",
       "    </tr>\n",
       "  </tbody>\n",
       "</table>\n",
       "<p>470511 rows × 27 columns</p>\n",
       "</div>"
      ],
      "text/plain": [
       "        player_id        date  market_value_in_eur_x  current_club_id_x  \\\n",
       "0          405973  2000-01-20                 150000               3057   \n",
       "1          405973  2016-02-07                 250000               3057   \n",
       "2          405973  2016-07-15                 250000               3057   \n",
       "3          405973  2017-01-01                 150000               3057   \n",
       "4          405973  2018-09-11                  75000               3057   \n",
       "...           ...         ...                    ...                ...   \n",
       "470506     935554  2024-05-31                  50000                114   \n",
       "470507     954135  2024-05-31                  50000               3205   \n",
       "470508    1047507  2024-05-31                  50000                924   \n",
       "470509    1055234  2024-05-31                  25000                724   \n",
       "470510    1175926  2024-05-31                  50000                924   \n",
       "\n",
       "       player_club_domestic_competition_id    first_name      last_name  \\\n",
       "0                                      BE1         Fadel       Gobitaka   \n",
       "1                                      BE1         Fadel       Gobitaka   \n",
       "2                                      BE1         Fadel       Gobitaka   \n",
       "3                                      BE1         Fadel       Gobitaka   \n",
       "4                                      BE1         Fadel       Gobitaka   \n",
       "...                                    ...           ...            ...   \n",
       "470506                                 TR1    Abdülmecid         Dönmez   \n",
       "470507                                 TR1         Berat          Eskin   \n",
       "470508                                 TR1  Emir Mustafa      Vuruşaner   \n",
       "470509                                 NL1          Mika  van der Horst   \n",
       "470510                                 TR1     Baran Alp         Vardar   \n",
       "\n",
       "                          name  last_season  current_club_id_y  ...   foot  \\\n",
       "0               Fadel Gobitaka         2017               3057  ...    NaN   \n",
       "1               Fadel Gobitaka         2017               3057  ...    NaN   \n",
       "2               Fadel Gobitaka         2017               3057  ...    NaN   \n",
       "3               Fadel Gobitaka         2017               3057  ...    NaN   \n",
       "4               Fadel Gobitaka         2017               3057  ...    NaN   \n",
       "...                        ...          ...                ...  ...    ...   \n",
       "470506       Abdülmecid Dönmez         2023                114  ...    NaN   \n",
       "470507             Berat Eskin         2023               3205  ...  right   \n",
       "470508  Emir Mustafa Vuruşaner         2023                924  ...   left   \n",
       "470509      Mika van der Horst         2023                724  ...    NaN   \n",
       "470510        Baran Alp Vardar         2023                924  ...  right   \n",
       "\n",
       "       height_in_cm contract_expiration_date          agent_name  \\\n",
       "0             181.0      2023-06-30 00:00:00                 NaN   \n",
       "1             181.0      2023-06-30 00:00:00                 NaN   \n",
       "2             181.0      2023-06-30 00:00:00                 NaN   \n",
       "3             181.0      2023-06-30 00:00:00                 NaN   \n",
       "4             181.0      2023-06-30 00:00:00                 NaN   \n",
       "...             ...                      ...                 ...   \n",
       "470506          NaN      2026-06-30 00:00:00                 NaN   \n",
       "470507        176.0      2028-06-30 00:00:00                 NaN   \n",
       "470508          NaN                      NaN                 NaN   \n",
       "470509          NaN      2027-06-30 00:00:00  Iconics Management   \n",
       "470510        191.0                      NaN                 NaN   \n",
       "\n",
       "                                                image_url  \\\n",
       "0       https://img.a.transfermarkt.technology/portrai...   \n",
       "1       https://img.a.transfermarkt.technology/portrai...   \n",
       "2       https://img.a.transfermarkt.technology/portrai...   \n",
       "3       https://img.a.transfermarkt.technology/portrai...   \n",
       "4       https://img.a.transfermarkt.technology/portrai...   \n",
       "...                                                   ...   \n",
       "470506  https://img.a.transfermarkt.technology/portrai...   \n",
       "470507  https://img.a.transfermarkt.technology/portrai...   \n",
       "470508  https://img.a.transfermarkt.technology/portrai...   \n",
       "470509  https://img.a.transfermarkt.technology/portrai...   \n",
       "470510  https://img.a.transfermarkt.technology/portrai...   \n",
       "\n",
       "                                                      url  \\\n",
       "0       https://www.transfermarkt.co.uk/fadel-gobitaka...   \n",
       "1       https://www.transfermarkt.co.uk/fadel-gobitaka...   \n",
       "2       https://www.transfermarkt.co.uk/fadel-gobitaka...   \n",
       "3       https://www.transfermarkt.co.uk/fadel-gobitaka...   \n",
       "4       https://www.transfermarkt.co.uk/fadel-gobitaka...   \n",
       "...                                                   ...   \n",
       "470506  https://www.transfermarkt.co.uk/abdulmecid-don...   \n",
       "470507  https://www.transfermarkt.co.uk/berat-eskin/pr...   \n",
       "470508  https://www.transfermarkt.co.uk/emir-mustafa-v...   \n",
       "470509  https://www.transfermarkt.co.uk/mika-van-der-h...   \n",
       "470510  https://www.transfermarkt.co.uk/baran-alp-vard...   \n",
       "\n",
       "       current_club_domestic_competition_id             current_club_name  \\\n",
       "0                                       BE1  Royal Standard Club de Liège   \n",
       "1                                       BE1  Royal Standard Club de Liège   \n",
       "2                                       BE1  Royal Standard Club de Liège   \n",
       "3                                       BE1  Royal Standard Club de Liège   \n",
       "4                                       BE1  Royal Standard Club de Liège   \n",
       "...                                     ...                           ...   \n",
       "470506                                  TR1     Beşiktaş Jimnastik Kulübü   \n",
       "470507                                  TR1            Kayserispor Kulübü   \n",
       "470508                                  TR1             İstanbulspor A.Ş.   \n",
       "470509                                  NL1        Football Club Volendam   \n",
       "470510                                  TR1             İstanbulspor A.Ş.   \n",
       "\n",
       "        market_value_in_eur_y highest_market_value_in_eur  \n",
       "0                     50000.0                    250000.0  \n",
       "1                     50000.0                    250000.0  \n",
       "2                     50000.0                    250000.0  \n",
       "3                     50000.0                    250000.0  \n",
       "4                     50000.0                    250000.0  \n",
       "...                       ...                         ...  \n",
       "470506                50000.0                     50000.0  \n",
       "470507                50000.0                     50000.0  \n",
       "470508                50000.0                     50000.0  \n",
       "470509                25000.0                     25000.0  \n",
       "470510                50000.0                     50000.0  \n",
       "\n",
       "[470511 rows x 27 columns]"
      ]
     },
     "execution_count": 14,
     "metadata": {},
     "output_type": "execute_result"
    }
   ],
   "source": [
    "players = pd.merge(player_valuations, player, on='player_id')\n",
    "\n",
    "players"
   ]
  },
  {
   "cell_type": "code",
   "execution_count": 15,
   "id": "83034b90-fbb7-4be0-81ec-4aee4e85a3b9",
   "metadata": {
    "tags": []
   },
   "outputs": [],
   "source": [
    "players = players.drop(columns=['url'])"
   ]
  },
  {
   "cell_type": "code",
   "execution_count": 16,
   "id": "96c388fa-ff20-4daa-a77e-99008e386745",
   "metadata": {
    "tags": []
   },
   "outputs": [],
   "source": [
    "players = players.drop(columns=['image_url'])"
   ]
  },
  {
   "cell_type": "code",
   "execution_count": 17,
   "id": "39bcc319-6ef1-4cac-bdbd-50ac4aa334f0",
   "metadata": {
    "tags": []
   },
   "outputs": [],
   "source": [
    "players = players.drop(columns=['current_club_name'])"
   ]
  },
  {
   "cell_type": "code",
   "execution_count": 18,
   "id": "dc2e52ab-3f73-4bdc-8e10-e8fb3a930130",
   "metadata": {
    "tags": []
   },
   "outputs": [],
   "source": [
    "players = players.drop(columns=['date'])"
   ]
  },
  {
   "cell_type": "code",
   "execution_count": 19,
   "id": "4e7657a6",
   "metadata": {
    "tags": []
   },
   "outputs": [],
   "source": [
    "players = players.drop(columns=['first_name','last_name','name'])"
   ]
  },
  {
   "cell_type": "code",
   "execution_count": 20,
   "id": "d15ec2d9",
   "metadata": {
    "tags": []
   },
   "outputs": [],
   "source": [
    "players = players.drop(columns=['current_club_id_x'])"
   ]
  },
  {
   "cell_type": "code",
   "execution_count": 21,
   "id": "2fdab185-9d99-4edf-9c71-c6afe58896a2",
   "metadata": {
    "tags": []
   },
   "outputs": [],
   "source": [
    "players = players.drop(columns=['market_value_in_eur_y','market_value_in_eur_x'])"
   ]
  },
  {
   "cell_type": "code",
   "execution_count": 22,
   "id": "bdd3e648",
   "metadata": {
    "tags": []
   },
   "outputs": [],
   "source": [
    "players = players.rename(columns={'current_club_id_y': 'current_club_id'})"
   ]
  },
  {
   "cell_type": "code",
   "execution_count": 23,
   "id": "a66719c2-43fb-4f72-8793-ac40fbad4ec7",
   "metadata": {
    "tags": []
   },
   "outputs": [
    {
     "data": {
      "text/plain": [
       "Index(['player_id', 'player_club_domestic_competition_id', 'last_season',\n",
       "       'current_club_id', 'player_code', 'country_of_birth', 'city_of_birth',\n",
       "       'country_of_citizenship', 'date_of_birth', 'sub_position', 'position',\n",
       "       'foot', 'height_in_cm', 'contract_expiration_date', 'agent_name',\n",
       "       'current_club_domestic_competition_id', 'highest_market_value_in_eur'],\n",
       "      dtype='object')"
      ]
     },
     "execution_count": 23,
     "metadata": {},
     "output_type": "execute_result"
    }
   ],
   "source": [
    "players.columns"
   ]
  },
  {
   "cell_type": "code",
   "execution_count": 24,
   "id": "38f5d523-fa01-46dc-851f-770e5f91c68b",
   "metadata": {
    "tags": []
   },
   "outputs": [
    {
     "data": {
      "text/plain": [
       "Index(['competition_id', 'competition_code', 'sub_type', 'type', 'country_id',\n",
       "       'domestic_league_code', 'confederation', 'is_major_national_league',\n",
       "       'appearance_id', 'game_id', 'player_id', 'player_club_id',\n",
       "       'player_current_club_id', 'date', 'player_name', 'yellow_cards',\n",
       "       'red_cards', 'goals', 'assists', 'minutes_played', 'season', 'round',\n",
       "       'home_club_id', 'away_club_id', 'home_club_goals', 'away_club_goals',\n",
       "       'home_club_position', 'away_club_position', 'home_club_manager_name',\n",
       "       'away_club_manager_name', 'stadium', 'attendance', 'referee',\n",
       "       'home_club_formation', 'away_club_formation', 'aggregate',\n",
       "       'competition_type', 'player_club_domestic_competition_id',\n",
       "       'last_season', 'current_club_id', 'player_code', 'country_of_birth',\n",
       "       'city_of_birth', 'country_of_citizenship', 'date_of_birth',\n",
       "       'sub_position', 'position', 'foot', 'height_in_cm',\n",
       "       'contract_expiration_date', 'agent_name',\n",
       "       'current_club_domestic_competition_id', 'highest_market_value_in_eur'],\n",
       "      dtype='object')"
      ]
     },
     "execution_count": 24,
     "metadata": {},
     "output_type": "execute_result"
    }
   ],
   "source": [
    "dff = pd.merge(merged_df, players, on='player_id', how='left')\n",
    "dff.columns"
   ]
  },
  {
   "cell_type": "code",
   "execution_count": 25,
   "id": "b65de1b2-b1be-4cab-a6f3-3a69d4cbf02a",
   "metadata": {
    "tags": []
   },
   "outputs": [],
   "source": [
    "df = dff.drop_duplicates()"
   ]
  },
  {
   "cell_type": "code",
   "execution_count": 26,
   "id": "951e2d42-fe87-4d5c-8fc4-baff7e053190",
   "metadata": {
    "tags": []
   },
   "outputs": [
    {
     "data": {
      "text/html": [
       "<div>\n",
       "<style scoped>\n",
       "    .dataframe tbody tr th:only-of-type {\n",
       "        vertical-align: middle;\n",
       "    }\n",
       "\n",
       "    .dataframe tbody tr th {\n",
       "        vertical-align: top;\n",
       "    }\n",
       "\n",
       "    .dataframe thead th {\n",
       "        text-align: right;\n",
       "    }\n",
       "</style>\n",
       "<table border=\"1\" class=\"dataframe\">\n",
       "  <thead>\n",
       "    <tr style=\"text-align: right;\">\n",
       "      <th></th>\n",
       "      <th>competition_id</th>\n",
       "      <th>competition_code</th>\n",
       "      <th>sub_type</th>\n",
       "      <th>type</th>\n",
       "      <th>country_id</th>\n",
       "      <th>domestic_league_code</th>\n",
       "      <th>confederation</th>\n",
       "      <th>is_major_national_league</th>\n",
       "      <th>appearance_id</th>\n",
       "      <th>game_id</th>\n",
       "      <th>...</th>\n",
       "      <th>country_of_citizenship</th>\n",
       "      <th>date_of_birth</th>\n",
       "      <th>sub_position</th>\n",
       "      <th>position</th>\n",
       "      <th>foot</th>\n",
       "      <th>height_in_cm</th>\n",
       "      <th>contract_expiration_date</th>\n",
       "      <th>agent_name</th>\n",
       "      <th>current_club_domestic_competition_id</th>\n",
       "      <th>highest_market_value_in_eur</th>\n",
       "    </tr>\n",
       "  </thead>\n",
       "  <tbody>\n",
       "    <tr>\n",
       "      <th>0</th>\n",
       "      <td>DK1</td>\n",
       "      <td>superligaen</td>\n",
       "      <td>first_tier</td>\n",
       "      <td>domestic_league</td>\n",
       "      <td>39</td>\n",
       "      <td>DK1</td>\n",
       "      <td>europa</td>\n",
       "      <td>False</td>\n",
       "      <td>2329280_102043</td>\n",
       "      <td>2329280</td>\n",
       "      <td>...</td>\n",
       "      <td>Nigeria</td>\n",
       "      <td>1990-09-08</td>\n",
       "      <td>Centre-Forward</td>\n",
       "      <td>Attack</td>\n",
       "      <td>right</td>\n",
       "      <td>174.0</td>\n",
       "      <td>NaN</td>\n",
       "      <td>Elite Consulting</td>\n",
       "      <td>RU1</td>\n",
       "      <td>4500000.0</td>\n",
       "    </tr>\n",
       "    <tr>\n",
       "      <th>29</th>\n",
       "      <td>DK1</td>\n",
       "      <td>superligaen</td>\n",
       "      <td>first_tier</td>\n",
       "      <td>domestic_league</td>\n",
       "      <td>39</td>\n",
       "      <td>DK1</td>\n",
       "      <td>europa</td>\n",
       "      <td>False</td>\n",
       "      <td>2329280_102045</td>\n",
       "      <td>2329280</td>\n",
       "      <td>...</td>\n",
       "      <td>Nigeria</td>\n",
       "      <td>1990-04-11</td>\n",
       "      <td>Defensive Midfield</td>\n",
       "      <td>Midfield</td>\n",
       "      <td>right</td>\n",
       "      <td>171.0</td>\n",
       "      <td>2024-06-30 00:00:00</td>\n",
       "      <td>NaN</td>\n",
       "      <td>DK1</td>\n",
       "      <td>1000000.0</td>\n",
       "    </tr>\n",
       "    <tr>\n",
       "      <th>51</th>\n",
       "      <td>DK1</td>\n",
       "      <td>superligaen</td>\n",
       "      <td>first_tier</td>\n",
       "      <td>domestic_league</td>\n",
       "      <td>39</td>\n",
       "      <td>DK1</td>\n",
       "      <td>europa</td>\n",
       "      <td>False</td>\n",
       "      <td>2329280_166460</td>\n",
       "      <td>2329280</td>\n",
       "      <td>...</td>\n",
       "      <td>Iraq</td>\n",
       "      <td>1993-07-14</td>\n",
       "      <td>Centre-Back</td>\n",
       "      <td>Defender</td>\n",
       "      <td>right</td>\n",
       "      <td>181.0</td>\n",
       "      <td>2025-05-31 00:00:00</td>\n",
       "      <td>KickGlobal</td>\n",
       "      <td>DK1</td>\n",
       "      <td>400000.0</td>\n",
       "    </tr>\n",
       "    <tr>\n",
       "      <th>71</th>\n",
       "      <td>DK1</td>\n",
       "      <td>superligaen</td>\n",
       "      <td>first_tier</td>\n",
       "      <td>domestic_league</td>\n",
       "      <td>39</td>\n",
       "      <td>DK1</td>\n",
       "      <td>europa</td>\n",
       "      <td>False</td>\n",
       "      <td>2329280_174001</td>\n",
       "      <td>2329280</td>\n",
       "      <td>...</td>\n",
       "      <td>Georgia</td>\n",
       "      <td>1993-03-16</td>\n",
       "      <td>Second Striker</td>\n",
       "      <td>Attack</td>\n",
       "      <td>right</td>\n",
       "      <td>187.0</td>\n",
       "      <td>2023-12-31 00:00:00</td>\n",
       "      <td>FA PLAYERS AGENTS</td>\n",
       "      <td>DK1</td>\n",
       "      <td>600000.0</td>\n",
       "    </tr>\n",
       "    <tr>\n",
       "      <th>97</th>\n",
       "      <td>DK1</td>\n",
       "      <td>superligaen</td>\n",
       "      <td>first_tier</td>\n",
       "      <td>domestic_league</td>\n",
       "      <td>39</td>\n",
       "      <td>DK1</td>\n",
       "      <td>europa</td>\n",
       "      <td>False</td>\n",
       "      <td>2329280_186557</td>\n",
       "      <td>2329280</td>\n",
       "      <td>...</td>\n",
       "      <td>Denmark</td>\n",
       "      <td>1994-04-04</td>\n",
       "      <td>Centre-Back</td>\n",
       "      <td>Defender</td>\n",
       "      <td>right</td>\n",
       "      <td>196.0</td>\n",
       "      <td>2023-06-30 00:00:00</td>\n",
       "      <td>NaN</td>\n",
       "      <td>DK1</td>\n",
       "      <td>800000.0</td>\n",
       "    </tr>\n",
       "    <tr>\n",
       "      <th>...</th>\n",
       "      <td>...</td>\n",
       "      <td>...</td>\n",
       "      <td>...</td>\n",
       "      <td>...</td>\n",
       "      <td>...</td>\n",
       "      <td>...</td>\n",
       "      <td>...</td>\n",
       "      <td>...</td>\n",
       "      <td>...</td>\n",
       "      <td>...</td>\n",
       "      <td>...</td>\n",
       "      <td>...</td>\n",
       "      <td>...</td>\n",
       "      <td>...</td>\n",
       "      <td>...</td>\n",
       "      <td>...</td>\n",
       "      <td>...</td>\n",
       "      <td>...</td>\n",
       "      <td>...</td>\n",
       "      <td>...</td>\n",
       "      <td>...</td>\n",
       "    </tr>\n",
       "    <tr>\n",
       "      <th>5347270</th>\n",
       "      <td>FR1</td>\n",
       "      <td>ligue-1</td>\n",
       "      <td>first_tier</td>\n",
       "      <td>domestic_league</td>\n",
       "      <td>50</td>\n",
       "      <td>FR1</td>\n",
       "      <td>europa</td>\n",
       "      <td>True</td>\n",
       "      <td>2942773_18955</td>\n",
       "      <td>2942773</td>\n",
       "      <td>...</td>\n",
       "      <td>France</td>\n",
       "      <td>1984-09-29</td>\n",
       "      <td>Central Midfield</td>\n",
       "      <td>Midfield</td>\n",
       "      <td>right</td>\n",
       "      <td>181.0</td>\n",
       "      <td>NaN</td>\n",
       "      <td>NaN</td>\n",
       "      <td>FR1</td>\n",
       "      <td>4000000.0</td>\n",
       "    </tr>\n",
       "    <tr>\n",
       "      <th>5347302</th>\n",
       "      <td>FR1</td>\n",
       "      <td>ligue-1</td>\n",
       "      <td>first_tier</td>\n",
       "      <td>domestic_league</td>\n",
       "      <td>50</td>\n",
       "      <td>FR1</td>\n",
       "      <td>europa</td>\n",
       "      <td>True</td>\n",
       "      <td>2942773_202318</td>\n",
       "      <td>2942773</td>\n",
       "      <td>...</td>\n",
       "      <td>Algeria</td>\n",
       "      <td>1993-02-25</td>\n",
       "      <td>Attacking Midfield</td>\n",
       "      <td>Midfield</td>\n",
       "      <td>right</td>\n",
       "      <td>180.0</td>\n",
       "      <td>2024-06-30 00:00:00</td>\n",
       "      <td>NaN</td>\n",
       "      <td>FR1</td>\n",
       "      <td>5500000.0</td>\n",
       "    </tr>\n",
       "    <tr>\n",
       "      <th>5347329</th>\n",
       "      <td>FR1</td>\n",
       "      <td>ligue-1</td>\n",
       "      <td>first_tier</td>\n",
       "      <td>domestic_league</td>\n",
       "      <td>50</td>\n",
       "      <td>FR1</td>\n",
       "      <td>europa</td>\n",
       "      <td>True</td>\n",
       "      <td>2942773_222859</td>\n",
       "      <td>2942773</td>\n",
       "      <td>...</td>\n",
       "      <td>France</td>\n",
       "      <td>1991-11-19</td>\n",
       "      <td>Attacking Midfield</td>\n",
       "      <td>Midfield</td>\n",
       "      <td>right</td>\n",
       "      <td>175.0</td>\n",
       "      <td>2025-06-30 00:00:00</td>\n",
       "      <td>NaN</td>\n",
       "      <td>FR1</td>\n",
       "      <td>9000000.0</td>\n",
       "    </tr>\n",
       "    <tr>\n",
       "      <th>5347356</th>\n",
       "      <td>FR1</td>\n",
       "      <td>ligue-1</td>\n",
       "      <td>first_tier</td>\n",
       "      <td>domestic_league</td>\n",
       "      <td>50</td>\n",
       "      <td>FR1</td>\n",
       "      <td>europa</td>\n",
       "      <td>True</td>\n",
       "      <td>2942773_291200</td>\n",
       "      <td>2942773</td>\n",
       "      <td>...</td>\n",
       "      <td>Senegal</td>\n",
       "      <td>1996-03-08</td>\n",
       "      <td>Centre-Back</td>\n",
       "      <td>Defender</td>\n",
       "      <td>left</td>\n",
       "      <td>190.0</td>\n",
       "      <td>2025-06-30 00:00:00</td>\n",
       "      <td>CAA Stellar</td>\n",
       "      <td>GB1</td>\n",
       "      <td>18000000.0</td>\n",
       "    </tr>\n",
       "    <tr>\n",
       "      <th>5347379</th>\n",
       "      <td>FR1</td>\n",
       "      <td>ligue-1</td>\n",
       "      <td>first_tier</td>\n",
       "      <td>domestic_league</td>\n",
       "      <td>50</td>\n",
       "      <td>FR1</td>\n",
       "      <td>europa</td>\n",
       "      <td>True</td>\n",
       "      <td>2942773_296802</td>\n",
       "      <td>2942773</td>\n",
       "      <td>...</td>\n",
       "      <td>Argentina</td>\n",
       "      <td>1993-01-19</td>\n",
       "      <td>Goalkeeper</td>\n",
       "      <td>Goalkeeper</td>\n",
       "      <td>right</td>\n",
       "      <td>191.0</td>\n",
       "      <td>2025-06-30 00:00:00</td>\n",
       "      <td>CAA Stellar</td>\n",
       "      <td>NL1</td>\n",
       "      <td>14000000.0</td>\n",
       "    </tr>\n",
       "  </tbody>\n",
       "</table>\n",
       "<p>200000 rows × 53 columns</p>\n",
       "</div>"
      ],
      "text/plain": [
       "        competition_id competition_code    sub_type             type  \\\n",
       "0                  DK1      superligaen  first_tier  domestic_league   \n",
       "29                 DK1      superligaen  first_tier  domestic_league   \n",
       "51                 DK1      superligaen  first_tier  domestic_league   \n",
       "71                 DK1      superligaen  first_tier  domestic_league   \n",
       "97                 DK1      superligaen  first_tier  domestic_league   \n",
       "...                ...              ...         ...              ...   \n",
       "5347270            FR1          ligue-1  first_tier  domestic_league   \n",
       "5347302            FR1          ligue-1  first_tier  domestic_league   \n",
       "5347329            FR1          ligue-1  first_tier  domestic_league   \n",
       "5347356            FR1          ligue-1  first_tier  domestic_league   \n",
       "5347379            FR1          ligue-1  first_tier  domestic_league   \n",
       "\n",
       "         country_id domestic_league_code confederation  \\\n",
       "0                39                  DK1        europa   \n",
       "29               39                  DK1        europa   \n",
       "51               39                  DK1        europa   \n",
       "71               39                  DK1        europa   \n",
       "97               39                  DK1        europa   \n",
       "...             ...                  ...           ...   \n",
       "5347270          50                  FR1        europa   \n",
       "5347302          50                  FR1        europa   \n",
       "5347329          50                  FR1        europa   \n",
       "5347356          50                  FR1        europa   \n",
       "5347379          50                  FR1        europa   \n",
       "\n",
       "         is_major_national_league   appearance_id  game_id  ...  \\\n",
       "0                           False  2329280_102043  2329280  ...   \n",
       "29                          False  2329280_102045  2329280  ...   \n",
       "51                          False  2329280_166460  2329280  ...   \n",
       "71                          False  2329280_174001  2329280  ...   \n",
       "97                          False  2329280_186557  2329280  ...   \n",
       "...                           ...             ...      ...  ...   \n",
       "5347270                      True   2942773_18955  2942773  ...   \n",
       "5347302                      True  2942773_202318  2942773  ...   \n",
       "5347329                      True  2942773_222859  2942773  ...   \n",
       "5347356                      True  2942773_291200  2942773  ...   \n",
       "5347379                      True  2942773_296802  2942773  ...   \n",
       "\n",
       "         country_of_citizenship  date_of_birth        sub_position  \\\n",
       "0                       Nigeria     1990-09-08      Centre-Forward   \n",
       "29                      Nigeria     1990-04-11  Defensive Midfield   \n",
       "51                         Iraq     1993-07-14         Centre-Back   \n",
       "71                      Georgia     1993-03-16      Second Striker   \n",
       "97                      Denmark     1994-04-04         Centre-Back   \n",
       "...                         ...            ...                 ...   \n",
       "5347270                  France     1984-09-29    Central Midfield   \n",
       "5347302                 Algeria     1993-02-25  Attacking Midfield   \n",
       "5347329                  France     1991-11-19  Attacking Midfield   \n",
       "5347356                 Senegal     1996-03-08         Centre-Back   \n",
       "5347379               Argentina     1993-01-19          Goalkeeper   \n",
       "\n",
       "           position   foot  height_in_cm  contract_expiration_date  \\\n",
       "0            Attack  right         174.0                       NaN   \n",
       "29         Midfield  right         171.0       2024-06-30 00:00:00   \n",
       "51         Defender  right         181.0       2025-05-31 00:00:00   \n",
       "71           Attack  right         187.0       2023-12-31 00:00:00   \n",
       "97         Defender  right         196.0       2023-06-30 00:00:00   \n",
       "...             ...    ...           ...                       ...   \n",
       "5347270    Midfield  right         181.0                       NaN   \n",
       "5347302    Midfield  right         180.0       2024-06-30 00:00:00   \n",
       "5347329    Midfield  right         175.0       2025-06-30 00:00:00   \n",
       "5347356    Defender   left         190.0       2025-06-30 00:00:00   \n",
       "5347379  Goalkeeper  right         191.0       2025-06-30 00:00:00   \n",
       "\n",
       "                agent_name  current_club_domestic_competition_id  \\\n",
       "0         Elite Consulting                                   RU1   \n",
       "29                     NaN                                   DK1   \n",
       "51              KickGlobal                                   DK1   \n",
       "71       FA PLAYERS AGENTS                                   DK1   \n",
       "97                     NaN                                   DK1   \n",
       "...                    ...                                   ...   \n",
       "5347270                NaN                                   FR1   \n",
       "5347302                NaN                                   FR1   \n",
       "5347329                NaN                                   FR1   \n",
       "5347356        CAA Stellar                                   GB1   \n",
       "5347379        CAA Stellar                                   NL1   \n",
       "\n",
       "         highest_market_value_in_eur  \n",
       "0                          4500000.0  \n",
       "29                         1000000.0  \n",
       "51                          400000.0  \n",
       "71                          600000.0  \n",
       "97                          800000.0  \n",
       "...                              ...  \n",
       "5347270                    4000000.0  \n",
       "5347302                    5500000.0  \n",
       "5347329                    9000000.0  \n",
       "5347356                   18000000.0  \n",
       "5347379                   14000000.0  \n",
       "\n",
       "[200000 rows x 53 columns]"
      ]
     },
     "execution_count": 26,
     "metadata": {},
     "output_type": "execute_result"
    }
   ],
   "source": [
    "df"
   ]
  },
  {
   "cell_type": "code",
   "execution_count": 27,
   "id": "87244a2a-53c0-4277-b4eb-400894a56edb",
   "metadata": {},
   "outputs": [
    {
     "data": {
      "text/plain": [
       "array(['domestic_league'], dtype=object)"
      ]
     },
     "execution_count": 27,
     "metadata": {},
     "output_type": "execute_result"
    }
   ],
   "source": [
    "df['type'].unique()"
   ]
  },
  {
   "cell_type": "code",
   "execution_count": 28,
   "id": "83a7543c-caa9-4515-93a8-14957d5cbc39",
   "metadata": {},
   "outputs": [
    {
     "data": {
      "text/plain": [
       "array(['right', 'left', 'both', nan], dtype=object)"
      ]
     },
     "execution_count": 28,
     "metadata": {},
     "output_type": "execute_result"
    }
   ],
   "source": [
    "df['foot'].unique()"
   ]
  },
  {
   "cell_type": "code",
   "execution_count": 29,
   "id": "03a276b0-ccf8-46d4-8bc9-1c1593f207db",
   "metadata": {},
   "outputs": [
    {
     "data": {
      "text/plain": [
       "array(['europa'], dtype=object)"
      ]
     },
     "execution_count": 29,
     "metadata": {},
     "output_type": "execute_result"
    }
   ],
   "source": [
    "df['confederation'].unique()"
   ]
  },
  {
   "cell_type": "code",
   "execution_count": 30,
   "id": "f5b8ca4f-7bd7-42b8-98b1-0e5ab1a13b9d",
   "metadata": {},
   "outputs": [
    {
     "data": {
      "text/plain": [
       "array(['4-1-4-1', '4-2-3-1', '4-4-1-1', '4-3-3', '4-2-4', '4-4-2',\n",
       "       '3-4-3', '4-4-2 double 6', '5-4-1', '4-3-3 Attacking',\n",
       "       '4-3-3 Defending', '3-4-3 Diamond', '3-5-2', '3-5-2 flat',\n",
       "       '4-4-2 Diamond', '5-4-1 Diamond', '3-4-2-1', '4-3-1-2',\n",
       "       '4-5-1 flat', '3-4-1-2', '4-5-1', '5-3-2', '3-1-4-2', '4-3-2-1',\n",
       "       '3-3-3-1', '4-1-3-2', '3-5-2 Attacking'], dtype=object)"
      ]
     },
     "execution_count": 30,
     "metadata": {},
     "output_type": "execute_result"
    }
   ],
   "source": [
    "df['home_club_formation'].unique()"
   ]
  },
  {
   "cell_type": "code",
   "execution_count": 31,
   "id": "c1e91b83-975c-4901-8095-a9623bbba587",
   "metadata": {},
   "outputs": [
    {
     "data": {
      "text/plain": [
       "array(['DK1', 'ES1', 'FR1'], dtype=object)"
      ]
     },
     "execution_count": 31,
     "metadata": {},
     "output_type": "execute_result"
    }
   ],
   "source": [
    "df['competition_id'].unique()"
   ]
  },
  {
   "cell_type": "code",
   "execution_count": 32,
   "id": "3f30f241-b332-47fc-8eff-dc3b6fa9c3b3",
   "metadata": {},
   "outputs": [
    {
     "data": {
      "text/plain": [
       "array(['superligaen', 'laliga', 'ligue-1'], dtype=object)"
      ]
     },
     "execution_count": 32,
     "metadata": {},
     "output_type": "execute_result"
    }
   ],
   "source": [
    "df['competition_code'].unique()"
   ]
  },
  {
   "cell_type": "code",
   "execution_count": 33,
   "id": "b8df419f-5935-4f4e-8e9e-0692c70e0371",
   "metadata": {},
   "outputs": [
    {
     "data": {
      "text/plain": [
       "array(['1. Matchday', '2. Matchday', '3. Matchday', '4. Matchday',\n",
       "       '5. Matchday', '6. Matchday', '7. Matchday', '8. Matchday',\n",
       "       '9. Matchday', '10. Matchday', '11. Matchday', '12. Matchday',\n",
       "       '13. Matchday', '14. Matchday', '15. Matchday', '16. Matchday',\n",
       "       '17. Matchday', '18. Matchday', '19. Matchday', '20. Matchday',\n",
       "       '21. Matchday', '22. Matchday', '23. Matchday', '24. Matchday',\n",
       "       '25. Matchday', '26. Matchday', '27. Matchday', '28. Matchday',\n",
       "       '29. Matchday', '30. Matchday', '31. Matchday', '32. Matchday',\n",
       "       '33. Matchday', '34. Matchday', '35. Matchday', '36. Matchday',\n",
       "       '37. Matchday', '38. Matchday'], dtype=object)"
      ]
     },
     "execution_count": 33,
     "metadata": {},
     "output_type": "execute_result"
    }
   ],
   "source": [
    "df['round'].unique()"
   ]
  },
  {
   "cell_type": "code",
   "execution_count": 34,
   "id": "430e7252-9336-41ac-a268-e78f90c8add2",
   "metadata": {
    "tags": []
   },
   "outputs": [],
   "source": [
    "df = df.drop(columns=['stadium'])"
   ]
  },
  {
   "cell_type": "code",
   "execution_count": 35,
   "id": "e973d63f-4354-4af2-bd91-8a622ef112ed",
   "metadata": {
    "tags": []
   },
   "outputs": [],
   "source": [
    "df = df.drop(columns=['agent_name'])"
   ]
  },
  {
   "cell_type": "code",
   "execution_count": 36,
   "id": "28e93c85-88fb-41ae-9cc8-14226920d7e2",
   "metadata": {
    "tags": []
   },
   "outputs": [],
   "source": [
    "df = df.drop(columns=['confederation'])"
   ]
  },
  {
   "cell_type": "code",
   "execution_count": 37,
   "id": "c14328bd-af3a-4cf8-9e0b-1c1fb7c5442e",
   "metadata": {
    "tags": []
   },
   "outputs": [],
   "source": [
    "df = df.drop(columns=['attendance'])"
   ]
  },
  {
   "cell_type": "code",
   "execution_count": 38,
   "id": "a9aa1678-28ae-4b66-a095-f15d52b3b4bc",
   "metadata": {
    "tags": []
   },
   "outputs": [],
   "source": [
    "df = df.drop(columns=['is_major_national_league'])"
   ]
  },
  {
   "cell_type": "code",
   "execution_count": 39,
   "id": "680f541e-b937-4754-90a2-19558b0fd38d",
   "metadata": {
    "tags": []
   },
   "outputs": [],
   "source": [
    "df = df.drop(columns=['yellow_cards','red_cards'])"
   ]
  },
  {
   "cell_type": "code",
   "execution_count": 40,
   "id": "9e5b3cce-1217-4180-bc7a-796b1654e553",
   "metadata": {
    "tags": []
   },
   "outputs": [],
   "source": [
    "df = df.drop(columns=['city_of_birth'])"
   ]
  },
  {
   "cell_type": "code",
   "execution_count": 41,
   "id": "1041c523-4064-471c-b4f8-227d80acdeb3",
   "metadata": {
    "tags": []
   },
   "outputs": [],
   "source": [
    "df = df.drop(columns=['appearance_id'])"
   ]
  },
  {
   "cell_type": "code",
   "execution_count": 42,
   "id": "47212a09-ad2e-46d9-af66-fe34ab0494b2",
   "metadata": {
    "tags": []
   },
   "outputs": [],
   "source": [
    "df = df.drop(columns=['aggregate'])"
   ]
  },
  {
   "cell_type": "code",
   "execution_count": 43,
   "id": "944158bc-49d9-4f18-96dc-8eff4a407d92",
   "metadata": {
    "tags": []
   },
   "outputs": [],
   "source": [
    "df = df.drop(columns=['type'])"
   ]
  },
  {
   "cell_type": "code",
   "execution_count": 44,
   "id": "4421a979-f1df-49f9-8111-f8024ef3ea0e",
   "metadata": {
    "tags": []
   },
   "outputs": [],
   "source": [
    "df = df.drop(columns=['competition_code'])"
   ]
  },
  {
   "cell_type": "code",
   "execution_count": 45,
   "id": "00a16d0f-b41e-4047-83bc-38750ba68c3a",
   "metadata": {
    "tags": []
   },
   "outputs": [],
   "source": [
    "df = df.drop(columns=['country_of_citizenship'])"
   ]
  },
  {
   "cell_type": "markdown",
   "id": "c0ad03e3-d35d-41fd-a21e-f08413c7a565",
   "metadata": {},
   "source": [
    "***Применим one-hot-encoding к колонкам, где немного уникальных значений***"
   ]
  },
  {
   "cell_type": "code",
   "execution_count": 46,
   "id": "bad3f3ec-a41a-4da5-9f37-70697ea96706",
   "metadata": {
    "tags": []
   },
   "outputs": [],
   "source": [
    "df = pd.get_dummies(df, columns=['competition_type','foot','sub_type', 'position', 'sub_position', 'competition_id'])"
   ]
  },
  {
   "cell_type": "code",
   "execution_count": 47,
   "id": "8ca29628-78c3-4dc3-82b8-65b965f3b62c",
   "metadata": {
    "tags": []
   },
   "outputs": [
    {
     "data": {
      "text/plain": [
       "Index(['country_id', 'domestic_league_code', 'game_id', 'player_id',\n",
       "       'player_club_id', 'player_current_club_id', 'date', 'player_name',\n",
       "       'goals', 'assists', 'minutes_played', 'season', 'round', 'home_club_id',\n",
       "       'away_club_id', 'home_club_goals', 'away_club_goals',\n",
       "       'home_club_position', 'away_club_position', 'home_club_manager_name',\n",
       "       'away_club_manager_name', 'referee', 'home_club_formation',\n",
       "       'away_club_formation', 'player_club_domestic_competition_id',\n",
       "       'last_season', 'current_club_id', 'player_code', 'country_of_birth',\n",
       "       'date_of_birth', 'height_in_cm', 'contract_expiration_date',\n",
       "       'current_club_domestic_competition_id', 'highest_market_value_in_eur',\n",
       "       'competition_type_domestic_league', 'foot_both', 'foot_left',\n",
       "       'foot_right', 'sub_type_first_tier', 'position_Attack',\n",
       "       'position_Defender', 'position_Goalkeeper', 'position_Midfield',\n",
       "       'position_Missing', 'sub_position_Attacking Midfield',\n",
       "       'sub_position_Central Midfield', 'sub_position_Centre-Back',\n",
       "       'sub_position_Centre-Forward', 'sub_position_Defensive Midfield',\n",
       "       'sub_position_Goalkeeper', 'sub_position_Left Midfield',\n",
       "       'sub_position_Left Winger', 'sub_position_Left-Back',\n",
       "       'sub_position_Right Midfield', 'sub_position_Right Winger',\n",
       "       'sub_position_Right-Back', 'sub_position_Second Striker',\n",
       "       'competition_id_DK1', 'competition_id_ES1', 'competition_id_FR1'],\n",
       "      dtype='object')"
      ]
     },
     "execution_count": 47,
     "metadata": {},
     "output_type": "execute_result"
    }
   ],
   "source": [
    "df.columns"
   ]
  },
  {
   "cell_type": "code",
   "execution_count": 48,
   "id": "d9767f7c-766e-4790-b0f0-5b461cc60203",
   "metadata": {
    "tags": []
   },
   "outputs": [
    {
     "data": {
      "text/plain": [
       "domestic_league_code                    object\n",
       "date                                    object\n",
       "player_name                             object\n",
       "round                                   object\n",
       "home_club_manager_name                  object\n",
       "away_club_manager_name                  object\n",
       "referee                                 object\n",
       "home_club_formation                     object\n",
       "away_club_formation                     object\n",
       "player_club_domestic_competition_id     object\n",
       "player_code                             object\n",
       "country_of_birth                        object\n",
       "date_of_birth                           object\n",
       "contract_expiration_date                object\n",
       "current_club_domestic_competition_id    object\n",
       "dtype: object"
      ]
     },
     "execution_count": 48,
     "metadata": {},
     "output_type": "execute_result"
    }
   ],
   "source": [
    "types = df.dtypes\n",
    "\n",
    "types[types == 'object']"
   ]
  },
  {
   "cell_type": "code",
   "execution_count": 49,
   "id": "1a4f1546-859e-474e-94d7-08be94c07eb1",
   "metadata": {
    "tags": []
   },
   "outputs": [],
   "source": [
    "text_columns = ['domestic_league_code',\n",
    " 'date',\n",
    " 'player_name',\n",
    " 'round',\n",
    " 'home_club_manager_name',\n",
    " 'away_club_manager_name',\n",
    " 'referee',\n",
    " 'home_club_formation',\n",
    " 'away_club_formation',\n",
    " 'player_club_domestic_competition_id',\n",
    " 'player_code',\n",
    " 'country_of_birth',\n",
    " 'date_of_birth',\n",
    " 'contract_expiration_date',\n",
    " 'current_club_domestic_competition_id']"
   ]
  },
  {
   "cell_type": "code",
   "execution_count": 50,
   "id": "16a29971-fffe-4972-bff8-282d859f4227",
   "metadata": {
    "tags": []
   },
   "outputs": [
    {
     "data": {
      "text/html": [
       "<div>\n",
       "<style scoped>\n",
       "    .dataframe tbody tr th:only-of-type {\n",
       "        vertical-align: middle;\n",
       "    }\n",
       "\n",
       "    .dataframe tbody tr th {\n",
       "        vertical-align: top;\n",
       "    }\n",
       "\n",
       "    .dataframe thead th {\n",
       "        text-align: right;\n",
       "    }\n",
       "</style>\n",
       "<table border=\"1\" class=\"dataframe\">\n",
       "  <thead>\n",
       "    <tr style=\"text-align: right;\">\n",
       "      <th></th>\n",
       "      <th>country_id</th>\n",
       "      <th>domestic_league_code</th>\n",
       "      <th>game_id</th>\n",
       "      <th>player_id</th>\n",
       "      <th>player_club_id</th>\n",
       "      <th>player_current_club_id</th>\n",
       "      <th>date</th>\n",
       "      <th>player_name</th>\n",
       "      <th>goals</th>\n",
       "      <th>assists</th>\n",
       "      <th>...</th>\n",
       "      <th>sub_position_Left Midfield</th>\n",
       "      <th>sub_position_Left Winger</th>\n",
       "      <th>sub_position_Left-Back</th>\n",
       "      <th>sub_position_Right Midfield</th>\n",
       "      <th>sub_position_Right Winger</th>\n",
       "      <th>sub_position_Right-Back</th>\n",
       "      <th>sub_position_Second Striker</th>\n",
       "      <th>competition_id_DK1</th>\n",
       "      <th>competition_id_ES1</th>\n",
       "      <th>competition_id_FR1</th>\n",
       "    </tr>\n",
       "  </thead>\n",
       "  <tbody>\n",
       "    <tr>\n",
       "      <th>0</th>\n",
       "      <td>39</td>\n",
       "      <td>DK1</td>\n",
       "      <td>2329280</td>\n",
       "      <td>102043</td>\n",
       "      <td>865</td>\n",
       "      <td>49702</td>\n",
       "      <td>2013-07-19</td>\n",
       "      <td>Sly</td>\n",
       "      <td>0</td>\n",
       "      <td>0</td>\n",
       "      <td>...</td>\n",
       "      <td>False</td>\n",
       "      <td>False</td>\n",
       "      <td>False</td>\n",
       "      <td>False</td>\n",
       "      <td>False</td>\n",
       "      <td>False</td>\n",
       "      <td>False</td>\n",
       "      <td>True</td>\n",
       "      <td>False</td>\n",
       "      <td>False</td>\n",
       "    </tr>\n",
       "    <tr>\n",
       "      <th>29</th>\n",
       "      <td>39</td>\n",
       "      <td>DK1</td>\n",
       "      <td>2329280</td>\n",
       "      <td>102045</td>\n",
       "      <td>865</td>\n",
       "      <td>173</td>\n",
       "      <td>2013-07-19</td>\n",
       "      <td>Izunna Uzochukwu</td>\n",
       "      <td>0</td>\n",
       "      <td>0</td>\n",
       "      <td>...</td>\n",
       "      <td>False</td>\n",
       "      <td>False</td>\n",
       "      <td>False</td>\n",
       "      <td>False</td>\n",
       "      <td>False</td>\n",
       "      <td>False</td>\n",
       "      <td>False</td>\n",
       "      <td>True</td>\n",
       "      <td>False</td>\n",
       "      <td>False</td>\n",
       "    </tr>\n",
       "    <tr>\n",
       "      <th>51</th>\n",
       "      <td>39</td>\n",
       "      <td>DK1</td>\n",
       "      <td>2329280</td>\n",
       "      <td>166460</td>\n",
       "      <td>678</td>\n",
       "      <td>1063</td>\n",
       "      <td>2013-07-19</td>\n",
       "      <td>Frans Putros</td>\n",
       "      <td>0</td>\n",
       "      <td>0</td>\n",
       "      <td>...</td>\n",
       "      <td>False</td>\n",
       "      <td>False</td>\n",
       "      <td>False</td>\n",
       "      <td>False</td>\n",
       "      <td>False</td>\n",
       "      <td>False</td>\n",
       "      <td>False</td>\n",
       "      <td>True</td>\n",
       "      <td>False</td>\n",
       "      <td>False</td>\n",
       "    </tr>\n",
       "    <tr>\n",
       "      <th>71</th>\n",
       "      <td>39</td>\n",
       "      <td>DK1</td>\n",
       "      <td>2329280</td>\n",
       "      <td>174001</td>\n",
       "      <td>678</td>\n",
       "      <td>1177</td>\n",
       "      <td>2013-07-19</td>\n",
       "      <td>Davit Skhirtladze</td>\n",
       "      <td>0</td>\n",
       "      <td>0</td>\n",
       "      <td>...</td>\n",
       "      <td>False</td>\n",
       "      <td>False</td>\n",
       "      <td>False</td>\n",
       "      <td>False</td>\n",
       "      <td>False</td>\n",
       "      <td>False</td>\n",
       "      <td>True</td>\n",
       "      <td>True</td>\n",
       "      <td>False</td>\n",
       "      <td>False</td>\n",
       "    </tr>\n",
       "    <tr>\n",
       "      <th>97</th>\n",
       "      <td>39</td>\n",
       "      <td>DK1</td>\n",
       "      <td>2329280</td>\n",
       "      <td>186557</td>\n",
       "      <td>865</td>\n",
       "      <td>5817</td>\n",
       "      <td>2013-07-19</td>\n",
       "      <td>Patrick Banggaard</td>\n",
       "      <td>0</td>\n",
       "      <td>0</td>\n",
       "      <td>...</td>\n",
       "      <td>False</td>\n",
       "      <td>False</td>\n",
       "      <td>False</td>\n",
       "      <td>False</td>\n",
       "      <td>False</td>\n",
       "      <td>False</td>\n",
       "      <td>False</td>\n",
       "      <td>True</td>\n",
       "      <td>False</td>\n",
       "      <td>False</td>\n",
       "    </tr>\n",
       "    <tr>\n",
       "      <th>...</th>\n",
       "      <td>...</td>\n",
       "      <td>...</td>\n",
       "      <td>...</td>\n",
       "      <td>...</td>\n",
       "      <td>...</td>\n",
       "      <td>...</td>\n",
       "      <td>...</td>\n",
       "      <td>...</td>\n",
       "      <td>...</td>\n",
       "      <td>...</td>\n",
       "      <td>...</td>\n",
       "      <td>...</td>\n",
       "      <td>...</td>\n",
       "      <td>...</td>\n",
       "      <td>...</td>\n",
       "      <td>...</td>\n",
       "      <td>...</td>\n",
       "      <td>...</td>\n",
       "      <td>...</td>\n",
       "      <td>...</td>\n",
       "      <td>...</td>\n",
       "    </tr>\n",
       "    <tr>\n",
       "      <th>5347270</th>\n",
       "      <td>50</td>\n",
       "      <td>FR1</td>\n",
       "      <td>2942773</td>\n",
       "      <td>18955</td>\n",
       "      <td>347</td>\n",
       "      <td>347</td>\n",
       "      <td>2018-01-27</td>\n",
       "      <td>Renaud Cohade</td>\n",
       "      <td>0</td>\n",
       "      <td>0</td>\n",
       "      <td>...</td>\n",
       "      <td>False</td>\n",
       "      <td>False</td>\n",
       "      <td>False</td>\n",
       "      <td>False</td>\n",
       "      <td>False</td>\n",
       "      <td>False</td>\n",
       "      <td>False</td>\n",
       "      <td>False</td>\n",
       "      <td>False</td>\n",
       "      <td>True</td>\n",
       "    </tr>\n",
       "    <tr>\n",
       "      <th>5347302</th>\n",
       "      <td>50</td>\n",
       "      <td>FR1</td>\n",
       "      <td>2942773</td>\n",
       "      <td>202318</td>\n",
       "      <td>347</td>\n",
       "      <td>347</td>\n",
       "      <td>2018-01-27</td>\n",
       "      <td>Farid Boulaya</td>\n",
       "      <td>0</td>\n",
       "      <td>0</td>\n",
       "      <td>...</td>\n",
       "      <td>False</td>\n",
       "      <td>False</td>\n",
       "      <td>False</td>\n",
       "      <td>False</td>\n",
       "      <td>False</td>\n",
       "      <td>False</td>\n",
       "      <td>False</td>\n",
       "      <td>False</td>\n",
       "      <td>False</td>\n",
       "      <td>True</td>\n",
       "    </tr>\n",
       "    <tr>\n",
       "      <th>5347329</th>\n",
       "      <td>50</td>\n",
       "      <td>FR1</td>\n",
       "      <td>2942773</td>\n",
       "      <td>222859</td>\n",
       "      <td>347</td>\n",
       "      <td>995</td>\n",
       "      <td>2018-01-27</td>\n",
       "      <td>Florent Mollet</td>\n",
       "      <td>0</td>\n",
       "      <td>1</td>\n",
       "      <td>...</td>\n",
       "      <td>False</td>\n",
       "      <td>False</td>\n",
       "      <td>False</td>\n",
       "      <td>False</td>\n",
       "      <td>False</td>\n",
       "      <td>False</td>\n",
       "      <td>False</td>\n",
       "      <td>False</td>\n",
       "      <td>False</td>\n",
       "      <td>True</td>\n",
       "    </tr>\n",
       "    <tr>\n",
       "      <th>5347356</th>\n",
       "      <td>50</td>\n",
       "      <td>FR1</td>\n",
       "      <td>2942773</td>\n",
       "      <td>291200</td>\n",
       "      <td>347</td>\n",
       "      <td>703</td>\n",
       "      <td>2018-01-27</td>\n",
       "      <td>Moussa Niakhaté</td>\n",
       "      <td>0</td>\n",
       "      <td>0</td>\n",
       "      <td>...</td>\n",
       "      <td>False</td>\n",
       "      <td>False</td>\n",
       "      <td>False</td>\n",
       "      <td>False</td>\n",
       "      <td>False</td>\n",
       "      <td>False</td>\n",
       "      <td>False</td>\n",
       "      <td>False</td>\n",
       "      <td>False</td>\n",
       "      <td>True</td>\n",
       "    </tr>\n",
       "    <tr>\n",
       "      <th>5347379</th>\n",
       "      <td>50</td>\n",
       "      <td>FR1</td>\n",
       "      <td>2942773</td>\n",
       "      <td>296802</td>\n",
       "      <td>417</td>\n",
       "      <td>383</td>\n",
       "      <td>2018-01-27</td>\n",
       "      <td>Walter Benítez</td>\n",
       "      <td>0</td>\n",
       "      <td>0</td>\n",
       "      <td>...</td>\n",
       "      <td>False</td>\n",
       "      <td>False</td>\n",
       "      <td>False</td>\n",
       "      <td>False</td>\n",
       "      <td>False</td>\n",
       "      <td>False</td>\n",
       "      <td>False</td>\n",
       "      <td>False</td>\n",
       "      <td>False</td>\n",
       "      <td>True</td>\n",
       "    </tr>\n",
       "  </tbody>\n",
       "</table>\n",
       "<p>200000 rows × 60 columns</p>\n",
       "</div>"
      ],
      "text/plain": [
       "         country_id domestic_league_code  game_id  player_id  player_club_id  \\\n",
       "0                39                  DK1  2329280     102043             865   \n",
       "29               39                  DK1  2329280     102045             865   \n",
       "51               39                  DK1  2329280     166460             678   \n",
       "71               39                  DK1  2329280     174001             678   \n",
       "97               39                  DK1  2329280     186557             865   \n",
       "...             ...                  ...      ...        ...             ...   \n",
       "5347270          50                  FR1  2942773      18955             347   \n",
       "5347302          50                  FR1  2942773     202318             347   \n",
       "5347329          50                  FR1  2942773     222859             347   \n",
       "5347356          50                  FR1  2942773     291200             347   \n",
       "5347379          50                  FR1  2942773     296802             417   \n",
       "\n",
       "         player_current_club_id        date        player_name  goals  \\\n",
       "0                         49702  2013-07-19                Sly      0   \n",
       "29                          173  2013-07-19   Izunna Uzochukwu      0   \n",
       "51                         1063  2013-07-19       Frans Putros      0   \n",
       "71                         1177  2013-07-19  Davit Skhirtladze      0   \n",
       "97                         5817  2013-07-19  Patrick Banggaard      0   \n",
       "...                         ...         ...                ...    ...   \n",
       "5347270                     347  2018-01-27      Renaud Cohade      0   \n",
       "5347302                     347  2018-01-27      Farid Boulaya      0   \n",
       "5347329                     995  2018-01-27     Florent Mollet      0   \n",
       "5347356                     703  2018-01-27    Moussa Niakhaté      0   \n",
       "5347379                     383  2018-01-27     Walter Benítez      0   \n",
       "\n",
       "         assists  ...  sub_position_Left Midfield  sub_position_Left Winger  \\\n",
       "0              0  ...                       False                     False   \n",
       "29             0  ...                       False                     False   \n",
       "51             0  ...                       False                     False   \n",
       "71             0  ...                       False                     False   \n",
       "97             0  ...                       False                     False   \n",
       "...          ...  ...                         ...                       ...   \n",
       "5347270        0  ...                       False                     False   \n",
       "5347302        0  ...                       False                     False   \n",
       "5347329        1  ...                       False                     False   \n",
       "5347356        0  ...                       False                     False   \n",
       "5347379        0  ...                       False                     False   \n",
       "\n",
       "        sub_position_Left-Back  sub_position_Right Midfield  \\\n",
       "0                        False                        False   \n",
       "29                       False                        False   \n",
       "51                       False                        False   \n",
       "71                       False                        False   \n",
       "97                       False                        False   \n",
       "...                        ...                          ...   \n",
       "5347270                  False                        False   \n",
       "5347302                  False                        False   \n",
       "5347329                  False                        False   \n",
       "5347356                  False                        False   \n",
       "5347379                  False                        False   \n",
       "\n",
       "         sub_position_Right Winger  sub_position_Right-Back  \\\n",
       "0                            False                    False   \n",
       "29                           False                    False   \n",
       "51                           False                    False   \n",
       "71                           False                    False   \n",
       "97                           False                    False   \n",
       "...                            ...                      ...   \n",
       "5347270                      False                    False   \n",
       "5347302                      False                    False   \n",
       "5347329                      False                    False   \n",
       "5347356                      False                    False   \n",
       "5347379                      False                    False   \n",
       "\n",
       "         sub_position_Second Striker  competition_id_DK1  competition_id_ES1  \\\n",
       "0                              False                True               False   \n",
       "29                             False                True               False   \n",
       "51                             False                True               False   \n",
       "71                              True                True               False   \n",
       "97                             False                True               False   \n",
       "...                              ...                 ...                 ...   \n",
       "5347270                        False               False               False   \n",
       "5347302                        False               False               False   \n",
       "5347329                        False               False               False   \n",
       "5347356                        False               False               False   \n",
       "5347379                        False               False               False   \n",
       "\n",
       "        competition_id_FR1  \n",
       "0                    False  \n",
       "29                   False  \n",
       "51                   False  \n",
       "71                   False  \n",
       "97                   False  \n",
       "...                    ...  \n",
       "5347270               True  \n",
       "5347302               True  \n",
       "5347329               True  \n",
       "5347356               True  \n",
       "5347379               True  \n",
       "\n",
       "[200000 rows x 60 columns]"
      ]
     },
     "execution_count": 50,
     "metadata": {},
     "output_type": "execute_result"
    }
   ],
   "source": [
    "df[text_columns] = df[text_columns].fillna('')\n",
    "df"
   ]
  },
  {
   "cell_type": "code",
   "execution_count": 51,
   "id": "ba88b35a-77c1-4eff-bbfd-dc34ff7d853f",
   "metadata": {
    "tags": []
   },
   "outputs": [
    {
     "name": "stdout",
     "output_type": "stream",
     "text": [
      "Колонки с пропущенными значениями:\n",
      "Index(['last_season', 'current_club_id', 'height_in_cm',\n",
      "       'highest_market_value_in_eur'],\n",
      "      dtype='object')\n"
     ]
    }
   ],
   "source": [
    "columns_with_nan = df.isna().any()\n",
    "\n",
    "print(\"Колонки с пропущенными значениями:\")\n",
    "print(columns_with_nan[columns_with_nan].index)\n"
   ]
  },
  {
   "cell_type": "code",
   "execution_count": 52,
   "id": "18fdd0b8-38b3-4547-ab29-4471709f6212",
   "metadata": {
    "tags": []
   },
   "outputs": [],
   "source": [
    "df = df.drop(columns=['home_club_position', 'away_club_position', 'last_season',\n",
    "       'current_club_id', 'height_in_cm', 'highest_market_value_in_eur'])"
   ]
  },
  {
   "cell_type": "code",
   "execution_count": 53,
   "id": "63d2044d-73d2-4262-8ac5-533abc763abd",
   "metadata": {
    "tags": []
   },
   "outputs": [
    {
     "data": {
      "text/plain": [
       "['domestic_league_code',\n",
       " 'date',\n",
       " 'player_name',\n",
       " 'round',\n",
       " 'home_club_manager_name',\n",
       " 'away_club_manager_name',\n",
       " 'referee',\n",
       " 'home_club_formation',\n",
       " 'away_club_formation',\n",
       " 'player_club_domestic_competition_id',\n",
       " 'player_code',\n",
       " 'country_of_birth',\n",
       " 'date_of_birth',\n",
       " 'contract_expiration_date',\n",
       " 'current_club_domestic_competition_id']"
      ]
     },
     "execution_count": 53,
     "metadata": {},
     "output_type": "execute_result"
    }
   ],
   "source": [
    "columns_to_drop = ['home_club_position', 'away_club_position', 'last_season',\n",
    "       'current_club_id', 'height_in_cm', 'highest_market_value_in_eur']\n",
    "for column in columns_to_drop:\n",
    "    if column in text_columns:\n",
    "        text_columns.remove(column)\n",
    "\n",
    "text_columns"
   ]
  },
  {
   "cell_type": "code",
   "execution_count": 54,
   "id": "c91439d2-9e43-4e65-9878-326bceeccbc0",
   "metadata": {
    "tags": []
   },
   "outputs": [],
   "source": [
    "import re"
   ]
  },
  {
   "cell_type": "code",
   "execution_count": 55,
   "id": "edddbf2d-71e1-4673-869c-d230137935ab",
   "metadata": {
    "tags": []
   },
   "outputs": [],
   "source": [
    "def preprocess_text(text):\n",
    "    text = str(text)\n",
    "    text = text.lower()\n",
    "    text = re.sub('[().,?!-:]', '', text)\n",
    "    text = text.replace('\"', '')\n",
    "    return text"
   ]
  },
  {
   "cell_type": "code",
   "execution_count": 56,
   "id": "226a50ef-9c8e-491c-a8c0-f3a7e5a1ecdb",
   "metadata": {
    "tags": []
   },
   "outputs": [],
   "source": [
    "df[text_columns] = df[text_columns].applymap(preprocess_text)"
   ]
  },
  {
   "cell_type": "code",
   "execution_count": 57,
   "id": "e9689425-8979-42b3-9d7f-b4ab5cca521a",
   "metadata": {
    "tags": []
   },
   "outputs": [],
   "source": [
    "df.dropna(inplace=True)"
   ]
  },
  {
   "cell_type": "code",
   "execution_count": 58,
   "id": "ff9b63b5-e109-487d-b21a-7a1ecb947ac5",
   "metadata": {
    "tags": []
   },
   "outputs": [],
   "source": [
    "cols = df.columns\n",
    "mas = list(set(cols)-set(text_columns))"
   ]
  },
  {
   "cell_type": "code",
   "execution_count": 59,
   "id": "72ea07b9-6515-4c37-94bf-1e466f26d06b",
   "metadata": {
    "tags": []
   },
   "outputs": [],
   "source": [
    "df['combined_text'] = df[text_columns].apply(lambda row: ' '.join(row), axis=1)"
   ]
  },
  {
   "cell_type": "code",
   "execution_count": 60,
   "id": "dc684405-59b0-4439-a199-54252d825d0d",
   "metadata": {
    "tags": []
   },
   "outputs": [],
   "source": [
    "cols = text_columns\n",
    "cols.append('goals')\n",
    "cols.append('combined_text')"
   ]
  },
  {
   "cell_type": "markdown",
   "id": "0d9767d4-d0e4-4107-9a4f-1519c7b38225",
   "metadata": {},
   "source": [
    "Обучимся только на числовых признаках"
   ]
  },
  {
   "cell_type": "code",
   "execution_count": 61,
   "id": "4910bd4e-307a-41b1-9a6d-3d0010689a97",
   "metadata": {
    "tags": []
   },
   "outputs": [],
   "source": [
    "dff = df.head(20000)"
   ]
  },
  {
   "cell_type": "code",
   "execution_count": 72,
   "id": "3ccd40ae-ac2c-4b3d-aa31-3ee57bc00341",
   "metadata": {
    "tags": []
   },
   "outputs": [],
   "source": [
    "from sklearn.model_selection import train_test_split\n",
    "from sklearn.feature_extraction.text import TfidfVectorizer\n",
    "\n",
    "target_column = 'goals'  \n",
    "\n",
    "X = dff.drop(columns=cols)\n",
    "y = dff[target_column]\n",
    "X_train, X_test, y_train, y_test = train_test_split(X, y, test_size=0.2, random_state=42)\n"
   ]
  },
  {
   "cell_type": "code",
   "execution_count": 63,
   "id": "159bee98-d2f4-4118-b765-24838ddafb71",
   "metadata": {
    "tags": []
   },
   "outputs": [
    {
     "data": {
      "text/plain": [
       "((16000, 38), (4000, 38), (16000,), (4000,))"
      ]
     },
     "execution_count": 63,
     "metadata": {},
     "output_type": "execute_result"
    }
   ],
   "source": [
    "X_train.shape, X_test.shape, y_train.shape, y_test.shape"
   ]
  },
  {
   "cell_type": "markdown",
   "id": "f8a50837-4fc7-47f9-8d01-8153959ccae8",
   "metadata": {},
   "source": [
    "Подбираем гиперпараметры и смотрим разные модели"
   ]
  },
  {
   "cell_type": "code",
   "execution_count": 73,
   "id": "b7c5c1bd-9a71-4b6a-83cd-e5dc4a1302a4",
   "metadata": {
    "tags": []
   },
   "outputs": [
    {
     "name": "stdout",
     "output_type": "stream",
     "text": [
      "Training\n",
      "лучшие параметры: {'C': 0.1, 'solver': 'liblinear'}\n",
      "0.9155\n",
      "MAE: 0.084\n",
      "MSE: 0.1105\n",
      "========================================\n",
      "Training\n",
      "лучшие параметры: {'max_depth': 10, 'n_estimators': 50}\n",
      "0.9155000000000001\n",
      "MAE: 0.08325\n",
      "MSE: 0.10875\n",
      "========================================\n"
     ]
    }
   ],
   "source": [
    "from sklearn.model_selection import GridSearchCV\n",
    "from sklearn.metrics import accuracy_score\n",
    "from sklearn.linear_model import LogisticRegression\n",
    "from sklearn.ensemble import RandomForestClassifier\n",
    "from sklearn.svm import SVC\n",
    "from xgboost import XGBClassifier\n",
    "from sklearn.neighbors import KNeighborsClassifier\n",
    "from sklearn.datasets import make_classification\n",
    "from sklearn.model_selection import train_test_split\n",
    "from sklearn.metrics import mean_absolute_error, mean_squared_error\n",
    "\n",
    "models = [\n",
    "    {\n",
    "        'name': 'Logistic Regression',\n",
    "        'estimator': LogisticRegression(),\n",
    "        'hyperparameters': {\n",
    "            'C': [0.1, 1, 10, 100],\n",
    "            'solver': ['liblinear', 'saga']\n",
    "        }\n",
    "    },\n",
    "    {\n",
    "        'name': 'Random Forest',\n",
    "        'estimator': RandomForestClassifier(),\n",
    "        'hyperparameters': {\n",
    "            'n_estimators': [10, 50, 100, 200],\n",
    "            'max_depth': [None, 5, 10, 20]\n",
    "        }\n",
    "    }\n",
    "]\n",
    "\n",
    "for model in models:\n",
    "    print(\"Training\")\n",
    "    grid = GridSearchCV(model['estimator'], model['hyperparameters'], cv=5)\n",
    "    grid.fit(X_train, y_train)\n",
    "    best_model = grid.best_estimator_\n",
    "    print(\"лучшие параметры:\", grid.best_params_)\n",
    "    print( grid.best_score_)\n",
    "    y_pred = best_model.predict(X_test)\n",
    "    print(\"MAE:\", mean_absolute_error(y_test, y_pred))\n",
    "    print(\"MSE:\", mean_squared_error(y_test, y_pred))\n",
    "    print(\"=\"*40)\n"
   ]
  },
  {
   "cell_type": "code",
   "execution_count": 70,
   "id": "aaea8244-2c48-442c-93a3-8d3ff817e311",
   "metadata": {},
   "outputs": [],
   "source": [
    "X = dff['combined_text']\n",
    "y = dff[target_column]\n",
    "X_train, X_test, y_train, y_test = train_test_split(X, y, test_size=0.2, random_state=42)\n",
    "\n",
    "bow = TfidfVectorizer()\n",
    "\n",
    "X_train_bow = bow.fit_transform(X_train)\n",
    "X_test_bow = bow.transform(X_test)\n"
   ]
  },
  {
   "cell_type": "code",
   "execution_count": null,
   "id": "76835a85-fb1a-4b4c-b75b-d0dcd477984f",
   "metadata": {
    "tags": []
   },
   "outputs": [],
   "source": []
  },
  {
   "cell_type": "code",
   "execution_count": 71,
   "id": "ace02ba7-9875-444a-82e8-2a3abb151aa2",
   "metadata": {
    "tags": []
   },
   "outputs": [
    {
     "name": "stdout",
     "output_type": "stream",
     "text": [
      "Модель: Linear Regression\n",
      "MAE: 0.15508147292549945\n",
      "MSE: 0.0979695619754165\n",
      "\n",
      "Модель: Random Forest\n",
      "MAE: 0.14640182656926407\n",
      "MSE: 0.1188513301856495\n",
      "\n"
     ]
    }
   ],
   "source": [
    "from sklearn.linear_model import LinearRegression\n",
    "from sklearn.ensemble import RandomForestRegressor\n",
    "from sklearn.metrics import mean_absolute_error, mean_squared_error\n",
    "\n",
    "\n",
    "models = [\n",
    "    ('Linear Regression', LinearRegression()),\n",
    "    ('Random Forest', RandomForestRegressor())\n",
    "]\n",
    "\n",
    "for name, model in models:\n",
    "    model.fit(X_train_bow, y_train)\n",
    "    \n",
    "    y_pred = model.predict(X_test_bow)\n",
    "    \n",
    "    mae = mean_absolute_error(y_test, y_pred)\n",
    "    mse = mean_squared_error(y_test, y_pred)\n",
    "\n",
    "    print(f\"Модель: {name}\")\n",
    "    print(f\"MAE: {mae}\")\n",
    "    print(f\"MSE: {mse}\")\n",
    "    print()\n"
   ]
  },
  {
   "cell_type": "code",
   "execution_count": 74,
   "id": "7fbe5670-9252-44bb-97c6-1240f2f4030a",
   "metadata": {
    "tags": []
   },
   "outputs": [
    {
     "ename": "SyntaxError",
     "evalue": "invalid syntax (2680732901.py, line 1)",
     "output_type": "error",
     "traceback": [
      "\u001b[0;36m  Cell \u001b[0;32mIn[74], line 1\u001b[0;36m\u001b[0m\n\u001b[0;31m    Лучше всего себя показала Random ForestMAE: 0.08325\u001b[0m\n\u001b[0m          ^\u001b[0m\n\u001b[0;31mSyntaxError\u001b[0m\u001b[0;31m:\u001b[0m invalid syntax\n"
     ]
    }
   ],
   "source": [
    "Лучше всего себя показала Random Forest на числовых признаках\n",
    "MAE: 0.08325\n",
    "MSE: 0.10875"
   ]
  },
  {
   "cell_type": "code",
   "execution_count": null,
   "id": "b95d3ca8-76a0-4726-a7f7-e8ddd8b45090",
   "metadata": {},
   "outputs": [],
   "source": []
  }
 ],
 "metadata": {
  "kernelspec": {
   "display_name": "Python 3 (ipykernel)",
   "language": "python",
   "name": "python3"
  },
  "language_info": {
   "codemirror_mode": {
    "name": "ipython",
    "version": 3
   },
   "file_extension": ".py",
   "mimetype": "text/x-python",
   "name": "python",
   "nbconvert_exporter": "python",
   "pygments_lexer": "ipython3",
   "version": "3.11.5"
  }
 },
 "nbformat": 4,
 "nbformat_minor": 5
}
